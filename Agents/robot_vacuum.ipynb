{
 "cells": [
  {
   "cell_type": "markdown",
   "metadata": {
    "tags": []
   },
   "source": [
    "# Intelligent Agents: Reflex-Based Agents for the Vacuum-cleaner World\n",
    "\n",
    "\n",
    "## Instructions\n",
    "\n",
    "Total Points: Undergrads 100 / Graduate students 110\n",
    "\n",
    "Complete this notebook. Use the provided notebook cells and insert additional code and markdown cells as needed. Submit the completely rendered notebook as a PDF file. \n",
    "\n",
    "## Introduction\n",
    "\n",
    "In this assignment you will implement a simulator environment for an automatic vacuum cleaner robot, a set of different reflex-based agent programs, and perform a comparison study for cleaning a single room. Focus on the __cleaning phase__ which starts when the robot is activated and ends when the last dirty square in the room has been cleaned. Someone else will take care of the agent program needed to navigate back to the charging station after the room is clean.\n",
    "\n",
    "## PEAS description of the cleaning phase\n",
    "\n",
    "__Performance Measure:__ Each action costs 1 energy unit. The performance is measured as the sum of the energy units used to clean the whole room.\n",
    "\n",
    "__Environment:__ A room with $n \\times n$ squares where $n = 5$. Dirt is randomly placed on each square with probability $p = 0.2$. For simplicity, you can assume that the agent knows the size and the layout of the room (i.e., it knows $n$). To start, the agent is placed on a random square.\n",
    "\n",
    "__Actuators:__ The agent can clean the current square (action `suck`) or move to an adjacent square by going `north`, `east`, `south`, or `west`.\n",
    "\n",
    "__Sensors:__ Four bumper sensors, one for north, east, south, and west; a dirt sensor reporting dirt in the current square.  \n",
    "\n",
    "\n",
    "## The agent program for a simple randomized agent\n",
    "\n",
    "The agent program is a function that gets sensor information (the current percepts) as the arguments. The arguments are:\n",
    "\n",
    "* A dictionary with boolean entries for the for bumper sensors `north`, `east`, `west`, `south`. E.g., if the agent is on the north-west corner, `bumpers` will be `{\"north\" : True, \"east\" : False, \"south\" : False, \"west\" : True}`.\n",
    "* The dirt sensor produces a boolean.\n",
    "\n",
    "The agent returns the chosen action as a string.\n",
    "\n",
    "Here is an example implementation for the agent program of a simple randomized agent:  "
   ]
  },
  {
   "cell_type": "code",
   "execution_count": 1,
   "metadata": {
    "tags": []
   },
   "outputs": [],
   "source": [
    "import numpy as np\n",
    "import random\n",
    "\n",
    "actions = [\"north\", \"east\", \"west\", \"south\", \"suck\"]\n",
    "\n",
    "def simple_randomized_agent(bumpers, dirty):\n",
    "    return np.random.choice(actions)"
   ]
  },
  {
   "cell_type": "code",
   "execution_count": 2,
   "metadata": {},
   "outputs": [
    {
     "data": {
      "text/plain": [
       "'east'"
      ]
     },
     "execution_count": 2,
     "metadata": {},
     "output_type": "execute_result"
    }
   ],
   "source": [
    "# define percepts (current location is NW corner and it is dirty)\n",
    "bumpers = {\"north\" : True, \"east\" : False, \"south\" : False, \"west\" : True}\n",
    "dirty = True\n",
    "\n",
    "# call agent program function with percepts and it returns an action\n",
    "simple_randomized_agent(bumpers, dirty)"
   ]
  },
  {
   "cell_type": "markdown",
   "metadata": {},
   "source": [
    "__Note:__ This is not a rational intelligent agent. It ignores its sensors and may bump into a wall repeatedly or not clean a dirty square. You will be asked to implement rational agents below."
   ]
  },
  {
   "cell_type": "markdown",
   "metadata": {
    "tags": []
   },
   "source": [
    "## Simple environment example\n",
    "\n",
    "We implement a simple simulation environment that supplies the agent with its percepts.\n",
    "The simple environment is infinite in size (bumpers are always `False`) and every square is always dirty, even if the agent cleans it. The environment function returns a performance measure which is here the number of cleaned squares (since the room is infinite and all squares are constantly dirty, the agent can never clean the whole room as required in the PEAS description above). The energy budget of the agent is specified as `max_steps`. "
   ]
  },
  {
   "cell_type": "code",
   "execution_count": 3,
   "metadata": {},
   "outputs": [],
   "source": [
    "def simple_environment(agent, max_steps, verbose = True):\n",
    "    num_cleaned = 0\n",
    "    \n",
    "    for i in range(max_steps):\n",
    "        dirty = True\n",
    "        bumpers = {\"north\" : False, \"south\" : False, \"west\" : False, \"east\" : False}\n",
    "\n",
    "        action = agent(bumpers, dirty)\n",
    "        if (verbose): print(\"step\", i , \"- action:\", action) \n",
    "        \n",
    "        if (action == \"suck\"): \n",
    "            num_cleaned = num_cleaned + 1\n",
    "        \n",
    "    return num_cleaned\n",
    "        "
   ]
  },
  {
   "cell_type": "markdown",
   "metadata": {},
   "source": [
    "Do one simulation run with a simple randomized agent that has enough energy for 20 steps."
   ]
  },
  {
   "cell_type": "code",
   "execution_count": 4,
   "metadata": {},
   "outputs": [
    {
     "name": "stdout",
     "output_type": "stream",
     "text": [
      "step 0 - action: north\n",
      "step 1 - action: east\n",
      "step 2 - action: east\n",
      "step 3 - action: north\n",
      "step 4 - action: east\n",
      "step 5 - action: east\n",
      "step 6 - action: west\n",
      "step 7 - action: north\n",
      "step 8 - action: north\n",
      "step 9 - action: south\n",
      "step 10 - action: south\n",
      "step 11 - action: east\n",
      "step 12 - action: east\n",
      "step 13 - action: west\n",
      "step 14 - action: north\n",
      "step 15 - action: suck\n",
      "step 16 - action: north\n",
      "step 17 - action: north\n",
      "step 18 - action: suck\n",
      "step 19 - action: west\n"
     ]
    },
    {
     "data": {
      "text/plain": [
       "2"
      ]
     },
     "execution_count": 4,
     "metadata": {},
     "output_type": "execute_result"
    }
   ],
   "source": [
    "simple_environment(simple_randomized_agent, max_steps = 20)"
   ]
  },
  {
   "cell_type": "markdown",
   "metadata": {
    "tags": []
   },
   "source": [
    "## Helper show_room Function"
   ]
  },
  {
   "cell_type": "code",
   "execution_count": 5,
   "metadata": {
    "jp-MarkdownHeadingCollapsed": true,
    "tags": []
   },
   "outputs": [],
   "source": [
    "import matplotlib.pyplot as plt\n",
    "from matplotlib import colors\n",
    "\n",
    "def show_room(room, pos, fontsize = 24):  \n",
    "    \"\"\"display room and robot\n",
    "    \n",
    "    Parameters\n",
    "    ----------\n",
    "    room : bool 2d array\n",
    "        Dirt locations in the room.\n",
    "    pos : list of 2 int values\n",
    "        x and y location of the robot.\n",
    "    fint_size : int\n",
    "        size of the robot symbol.\n",
    "    \"\"\"\n",
    "    \n",
    "    cmap = colors.ListedColormap(['white', 'gray'])\n",
    "    \n",
    "    room = np.copy(room)    \n",
    "    room = room.astype(np.int64)\n",
    "    \n",
    "    fig, ax = plt.subplots()\n",
    "    ax.imshow(room, cmap = cmap, norm = colors.BoundaryNorm(list(range(cmap.N+1)), cmap.N), origin = 'lower')\n",
    "    \n",
    "    plt.text(pos[1], pos[0], u\"\\u2B24\", fontsize = fontsize,\n",
    "                 horizontalalignment = 'center', verticalalignment = 'center')\n",
    "    \n",
    "    plt.show()"
   ]
  },
  {
   "cell_type": "markdown",
   "metadata": {
    "tags": []
   },
   "source": [
    "# Tasks\n",
    "\n",
    "## General [10 Points]\n",
    "\n",
    "1. Make sure that you use the latest version of this notebook. Sync your forked repository and pull the latest revision. \n",
    "2. Your implementation can use libraries like math, numpy, scipy, but not libraries that implement inteligent agents or complete search algorithms. Try to keep the code simple! In this course, we want to learn about the algorithms and we often do not need to use object-oriented design.\n",
    "3. You notebook needs to be formated professionally. \n",
    "    - Add additional markdown blocks for your description, comments in the code, add tables and use mathplotlib to produce charts where appropriate\n",
    "    - Do not show debugging output or include an excessive amount of output.\n",
    "    - Check that your PDF file is readable. For example, long lines are cut off in the PDF file. You don't have control over page breaks, so do not worry about these.\n",
    "4. Document your code. Add a short discussion of how your implementation works and your design choices.\n",
    "\n",
    "\n",
    "## Task 1: Implement a simulation environment [20 Points]\n",
    "\n",
    "The simple environment above is not very realistic. Your environment simulator needs to follow the PEAS description from above. It needs to:\n",
    "\n",
    "* Initialize the environment by storing the state of each square (clean/dirty) and making some dirty. ([Help with random numbers and arrays in Python](https://github.com/mhahsler/CS7320-AI/blob/master/Python_Code_Examples/random_numbers_and_arrays.ipynb))\n",
    "* Keep track of the agent's position.\n",
    "* Call the agent function repeatedly and provide the agent function with the sensor inputs.  \n",
    "* React to the agent's actions. E.g, by removing dirt from a square or moving the agent around unless there is a wall in the way.\n",
    "* Keep track of the performance measure. That is, track the agent's actions until all dirty squares are clean and count the number of actions it takes the agent to complete the task.\n",
    "\n",
    "The easiest implementation for the environment is to hold an 2-dimensional array to represent if squares are clean or dirty and to call the agent function in a loop until all squares are clean or a predefined number of steps have been reached (i.e., the robot runs out of energy).\n",
    "\n",
    "The simulation environment should be a function like the `simple_environment()` and needs to work with the simple randomized agent program from above. Use the same environmnt for all your agent implementations in the tasks below.\n",
    "\n",
    "*Note on debugging:* Debugging is difficult. Make sure your environment prints enough information when you use `verbose = True`. Also, implementing a function that the environment can use to displays the room with dirt and the current position of the robot at every step is very useful.  "
   ]
  },
  {
   "cell_type": "code",
   "execution_count": 6,
   "metadata": {
    "tags": []
   },
   "outputs": [
    {
     "data": {
      "text/plain": [
       "(False, 19)"
      ]
     },
     "execution_count": 6,
     "metadata": {},
     "output_type": "execute_result"
    }
   ],
   "source": [
    "# Your code and description goes here\n",
    "size = [5,5]\n",
    "def simulation_environment(agent, max_steps, verbose = True):\n",
    "    \n",
    "    # Initialize room \n",
    "    global size\n",
    "    env_width = size[0]\n",
    "    env_height = size[1]\n",
    "    p = 0.2\n",
    "    options = [True, False]\n",
    "    room = np.random.choice(options, size=(env_width,env_height), p=(p,1-p))\n",
    "    \n",
    "    # Initialize agent to random position\n",
    "    # pos[0] is y coordinate and pos[1] is x coordinate because room[0][1] would be coordinate (1,0)\n",
    "    pos = [np.random.randint(env_height), np.random.randint(env_width)]\n",
    "    total_dirty = 0\n",
    "    num_cleaned = 0\n",
    "    num_steps = 0 \n",
    "    for x in room.flat: \n",
    "        if (x): total_dirty += 1\n",
    "    if (verbose):\n",
    "        print(\"Total dirty squares: \", total_dirty)\n",
    "        print(\"Starting at: (\",pos[1],\",\",pos[0],\")\")\n",
    "        show_room(room, pos)\n",
    "    \n",
    "    for i in range(max_steps):\n",
    "        \n",
    "        # Get sensor input\n",
    "        bumpers = {\"north\" : False, \"south\" : False, \"west\" : False, \"east\" : False}\n",
    "        if(pos[0]==0):\n",
    "            bumpers[\"south\"] = True\n",
    "        if(pos[1]==0):\n",
    "            bumpers[\"west\"] = True\n",
    "        if(pos[0]==env_height-1):\n",
    "            bumpers[\"north\"] = True\n",
    "        if(pos[1]==env_width-1):\n",
    "            bumpers[\"east\"] = True\n",
    "        dirty = room[pos[0]][pos[1]]\n",
    "        if(verbose):\n",
    "            print(i+1,\".\", sep='', end='')\n",
    "            print(\"\\tBumper input:\",bumpers)\n",
    "            print(\"\\tDirty:\", dirty)\n",
    "       \n",
    "        # Get action\n",
    "        action = agent(bumpers, dirty)\n",
    "        if (verbose):\n",
    "            print(\"\\taction:\", action)\n",
    "            print(\"\\t(\",pos[1],\",\",pos[0],\") --> \", end='')\n",
    "            \n",
    "        # Perform action in the environment (position (0,0) in the bottom left corner)\n",
    "        if (action == \"north\" and pos[0]<env_height-1):\n",
    "            pos[0]+=1;\n",
    "        if ((action == \"east\") and (pos[1]<env_width-1)):\n",
    "            pos[1]+=1;\n",
    "        if ((action == \"south\") and (pos[0]>0)):\n",
    "            pos[0]-=1;\n",
    "        if ((action == \"west\") and (pos[1]>0)):\n",
    "            pos[1]-=1;\n",
    "        if ((action == \"suck\") and (dirty == True)): \n",
    "            num_cleaned = num_cleaned + 1\n",
    "            room[pos[0]][pos[1]] = False;\n",
    "        if (verbose):\n",
    "            print(\"(\",pos[1],\",\",pos[0],\")\")\n",
    "            show_room(room, pos)\n",
    "        num_steps = i\n",
    "        if(num_cleaned == total_dirty):\n",
    "            return True, num_steps\n",
    "    if(verbose):\n",
    "        print(num_cleaned, \"/\", total_dirty, \"dirty squares cleaned.\\n\")\n",
    "    return False, num_steps\n",
    "\n",
    "simulation_environment(simple_randomized_agent, max_steps = 20, verbose = False)"
   ]
  },
  {
   "cell_type": "markdown",
   "metadata": {},
   "source": [
    "## Task 2:  Implement a simple reflex agent [10 Points] \n",
    "\n",
    "The simple reflex agent randomly walks around but reacts to the bumper sensor by not bumping into the wall and to dirt with sucking. Implement the agent program as a function.\n",
    "\n",
    "_Note:_ Agents cannot directly use variable in the environment. They only gets the percepts as the arguments to the agent function."
   ]
  },
  {
   "cell_type": "code",
   "execution_count": 7,
   "metadata": {},
   "outputs": [],
   "source": [
    "def simple_reflex_agent(bumpers, dirty):\n",
    "    actions = [\"north\", \"east\", \"west\", \"south\"]\n",
    "    if(dirty == True):\n",
    "        return \"suck\"\n",
    "    if(bumpers[\"north\"] == True):\n",
    "        actions.remove(\"north\")\n",
    "    if(bumpers[\"east\"] == True):\n",
    "        actions.remove(\"east\")\n",
    "    if(bumpers[\"south\"] == True):\n",
    "        actions.remove(\"south\")\n",
    "    if(bumpers[\"west\"] == True):\n",
    "        actions.remove(\"west\")\n",
    "    return np.random.choice(actions)"
   ]
  },
  {
   "cell_type": "code",
   "execution_count": 8,
   "metadata": {
    "tags": []
   },
   "outputs": [
    {
     "data": {
      "text/plain": [
       "(False, 19)"
      ]
     },
     "execution_count": 8,
     "metadata": {},
     "output_type": "execute_result"
    }
   ],
   "source": [
    "simulation_environment(simple_reflex_agent, max_steps = 20, verbose= False)"
   ]
  },
  {
   "cell_type": "markdown",
   "metadata": {},
   "source": [
    "## Task 3: Implement a model-based reflex agent [20 Points]\n",
    "\n",
    "Model-based agents use a state to keep track of what they have done and perceived so far. Your agent needs to find out where it is located and then keep track of its current location. You also need a set of rules based on the state and the percepts to make sure that the agent will clean the whole room. For example, the agent can move to a corner to determine its location and then it can navigate through the whole room and clean dirty squares.\n",
    "\n",
    "Describe how you define the __agent state__ and how your agent works before implementing it. ([Help with implementing state information on Python](https://github.com/mhahsler/CS7320-AI/blob/master/Python_Code_Examples/store_agent_state_information.ipynb))"
   ]
  },
  {
   "cell_type": "markdown",
   "metadata": {},
   "source": [
    "# Description of the state and implementation:\n",
    "For this implementation, I will be saving 2 boolean variables called \"has_reached_start\" and \"is_moving_east\" for \n",
    "my agent state. The variable has_reached_start will save if the agent has reached the southwest corner of the \n",
    "room or (0,0), and the is_moving_east variable will save the direction of movement once the agent has reached the \n",
    "start.\n",
    "\n",
    "The implementation works like this:\n",
    "1. If the agent has not reached the bottom left corner then it will navigate there.\n",
    "2. Once the agent has reached the start, it will move across the floor east until it reaches a wall.\n",
    "3. Once the agent reaches a wall it will move north and then update the is_moving_east variable to change directions.\n",
    "4. Repeat until the agent reaches a corner.\n"
   ]
  },
  {
   "cell_type": "code",
   "execution_count": 9,
   "metadata": {
    "collapsed": true,
    "jupyter": {
     "outputs_hidden": true
    },
    "tags": []
   },
   "outputs": [
    {
     "name": "stdout",
     "output_type": "stream",
     "text": [
      "Total dirty squares:  5\n",
      "Starting at: ( 3 , 3 )\n"
     ]
    },
    {
     "data": {
      "image/png": "[encoded data removed]",
      "text/plain": [
       "<Figure size 432x288 with 1 Axes>"
      ]
     },
     "metadata": {
      "needs_background": "light"
     },
     "output_type": "display_data"
    },
    {
     "name": "stdout",
     "output_type": "stream",
     "text": [
      "1.\tBumper input: {'north': False, 'south': False, 'west': False, 'east': False}\n",
      "\tDirty: True\n",
      "\taction: west\n",
      "\t( 3 , 3 ) --> ( 2 , 3 )\n"
     ]
    },
    {
     "data": {
      "image/png": "[encoded data removed]",
      "text/plain": [
       "<Figure size 432x288 with 1 Axes>"
      ]
     },
     "metadata": {
      "needs_background": "light"
     },
     "output_type": "display_data"
    },
    {
     "name": "stdout",
     "output_type": "stream",
     "text": [
      "2.\tBumper input: {'north': False, 'south': False, 'west': False, 'east': False}\n",
      "\tDirty: False\n",
      "\taction: west\n",
      "\t( 2 , 3 ) --> ( 1 , 3 )\n"
     ]
    },
    {
     "data": {
      "image/png": "[encoded data removed]",
      "text/plain": [
       "<Figure size 432x288 with 1 Axes>"
      ]
     },
     "metadata": {
      "needs_background": "light"
     },
     "output_type": "display_data"
    },
    {
     "name": "stdout",
     "output_type": "stream",
     "text": [
      "3.\tBumper input: {'north': False, 'south': False, 'west': False, 'east': False}\n",
      "\tDirty: False\n",
      "\taction: west\n",
      "\t( 1 , 3 ) --> ( 0 , 3 )\n"
     ]
    },
    {
     "data": {
      "image/png": "[encoded data removed]",
      "text/plain": [
       "<Figure size 432x288 with 1 Axes>"
      ]
     },
     "metadata": {
      "needs_background": "light"
     },
     "output_type": "display_data"
    },
    {
     "name": "stdout",
     "output_type": "stream",
     "text": [
      "4.\tBumper input: {'north': False, 'south': False, 'west': True, 'east': False}\n",
      "\tDirty: False\n",
      "\taction: south\n",
      "\t( 0 , 3 ) --> ( 0 , 2 )\n"
     ]
    },
    {
     "data": {
      "image/png": "[encoded data removed]",
      "text/plain": [
       "<Figure size 432x288 with 1 Axes>"
      ]
     },
     "metadata": {
      "needs_background": "light"
     },
     "output_type": "display_data"
    },
    {
     "name": "stdout",
     "output_type": "stream",
     "text": [
      "5.\tBumper input: {'north': False, 'south': False, 'west': True, 'east': False}\n",
      "\tDirty: True\n",
      "\taction: south\n",
      "\t( 0 , 2 ) --> ( 0 , 1 )\n"
     ]
    },
    {
     "data": {
      "image/png": "[encoded data removed]",
      "text/plain": [
       "<Figure size 432x288 with 1 Axes>"
      ]
     },
     "metadata": {
      "needs_background": "light"
     },
     "output_type": "display_data"
    },
    {
     "name": "stdout",
     "output_type": "stream",
     "text": [
      "6.\tBumper input: {'north': False, 'south': False, 'west': True, 'east': False}\n",
      "\tDirty: False\n",
      "\taction: south\n",
      "\t( 0 , 1 ) --> ( 0 , 0 )\n"
     ]
    },
    {
     "data": {
      "image/png": "[encoded data removed]",
      "text/plain": [
       "<Figure size 432x288 with 1 Axes>"
      ]
     },
     "metadata": {
      "needs_background": "light"
     },
     "output_type": "display_data"
    },
    {
     "name": "stdout",
     "output_type": "stream",
     "text": [
      "7.\tBumper input: {'north': False, 'south': True, 'west': True, 'east': False}\n",
      "\tDirty: False\n",
      "\taction: None\n",
      "\t( 0 , 0 ) --> ( 0 , 0 )\n"
     ]
    },
    {
     "data": {
      "image/png": "[encoded data removed]",
      "text/plain": [
       "<Figure size 432x288 with 1 Axes>"
      ]
     },
     "metadata": {
      "needs_background": "light"
     },
     "output_type": "display_data"
    },
    {
     "name": "stdout",
     "output_type": "stream",
     "text": [
      "8.\tBumper input: {'north': False, 'south': True, 'west': True, 'east': False}\n",
      "\tDirty: False\n",
      "\taction: east\n",
      "\t( 0 , 0 ) --> ( 1 , 0 )\n"
     ]
    },
    {
     "data": {
      "image/png": "[encoded data removed]",
      "text/plain": [
       "<Figure size 432x288 with 1 Axes>"
      ]
     },
     "metadata": {
      "needs_background": "light"
     },
     "output_type": "display_data"
    },
    {
     "name": "stdout",
     "output_type": "stream",
     "text": [
      "9.\tBumper input: {'north': False, 'south': True, 'west': False, 'east': False}\n",
      "\tDirty: False\n",
      "\taction: east\n",
      "\t( 1 , 0 ) --> ( 2 , 0 )\n"
     ]
    },
    {
     "data": {
      "image/png": "[encoded data removed]",
      "text/plain": [
       "<Figure size 432x288 with 1 Axes>"
      ]
     },
     "metadata": {
      "needs_background": "light"
     },
     "output_type": "display_data"
    },
    {
     "name": "stdout",
     "output_type": "stream",
     "text": [
      "10.\tBumper input: {'north': False, 'south': True, 'west': False, 'east': False}\n",
      "\tDirty: False\n",
      "\taction: east\n",
      "\t( 2 , 0 ) --> ( 3 , 0 )\n"
     ]
    },
    {
     "data": {
      "image/png": "[encoded data removed]",
      "text/plain": [
       "<Figure size 432x288 with 1 Axes>"
      ]
     },
     "metadata": {
      "needs_background": "light"
     },
     "output_type": "display_data"
    },
    {
     "name": "stdout",
     "output_type": "stream",
     "text": [
      "11.\tBumper input: {'north': False, 'south': True, 'west': False, 'east': False}\n",
      "\tDirty: False\n",
      "\taction: east\n",
      "\t( 3 , 0 ) --> ( 4 , 0 )\n"
     ]
    },
    {
     "data": {
      "image/png": "[encoded data removed]",
      "text/plain": [
       "<Figure size 432x288 with 1 Axes>"
      ]
     },
     "metadata": {
      "needs_background": "light"
     },
     "output_type": "display_data"
    },
    {
     "name": "stdout",
     "output_type": "stream",
     "text": [
      "12.\tBumper input: {'north': False, 'south': True, 'west': False, 'east': True}\n",
      "\tDirty: False\n",
      "\taction: north\n",
      "\t( 4 , 0 ) --> ( 4 , 1 )\n"
     ]
    },
    {
     "data": {
      "image/png": "[encoded data removed]",
      "text/plain": [
       "<Figure size 432x288 with 1 Axes>"
      ]
     },
     "metadata": {
      "needs_background": "light"
     },
     "output_type": "display_data"
    },
    {
     "name": "stdout",
     "output_type": "stream",
     "text": [
      "13.\tBumper input: {'north': False, 'south': False, 'west': False, 'east': True}\n",
      "\tDirty: True\n",
      "\taction: suck\n",
      "\t( 4 , 1 ) --> ( 4 , 1 )\n"
     ]
    },
    {
     "data": {
      "image/png": "[encoded data removed]",
      "text/plain": [
       "<Figure size 432x288 with 1 Axes>"
      ]
     },
     "metadata": {
      "needs_background": "light"
     },
     "output_type": "display_data"
    },
    {
     "name": "stdout",
     "output_type": "stream",
     "text": [
      "14.\tBumper input: {'north': False, 'south': False, 'west': False, 'east': True}\n",
      "\tDirty: False\n",
      "\taction: west\n",
      "\t( 4 , 1 ) --> ( 3 , 1 )\n"
     ]
    },
    {
     "data": {
      "image/png": "[encoded data removed]",
      "text/plain": [
       "<Figure size 432x288 with 1 Axes>"
      ]
     },
     "metadata": {
      "needs_background": "light"
     },
     "output_type": "display_data"
    },
    {
     "name": "stdout",
     "output_type": "stream",
     "text": [
      "15.\tBumper input: {'north': False, 'south': False, 'west': False, 'east': False}\n",
      "\tDirty: False\n",
      "\taction: west\n",
      "\t( 3 , 1 ) --> ( 2 , 1 )\n"
     ]
    },
    {
     "data": {
      "image/png": "[encoded data removed]",
      "text/plain": [
       "<Figure size 432x288 with 1 Axes>"
      ]
     },
     "metadata": {
      "needs_background": "light"
     },
     "output_type": "display_data"
    },
    {
     "name": "stdout",
     "output_type": "stream",
     "text": [
      "16.\tBumper input: {'north': False, 'south': False, 'west': False, 'east': False}\n",
      "\tDirty: False\n",
      "\taction: west\n",
      "\t( 2 , 1 ) --> ( 1 , 1 )\n"
     ]
    },
    {
     "data": {
      "image/png": "[encoded data removed]",
      "text/plain": [
       "<Figure size 432x288 with 1 Axes>"
      ]
     },
     "metadata": {
      "needs_background": "light"
     },
     "output_type": "display_data"
    },
    {
     "name": "stdout",
     "output_type": "stream",
     "text": [
      "17.\tBumper input: {'north': False, 'south': False, 'west': False, 'east': False}\n",
      "\tDirty: False\n",
      "\taction: west\n",
      "\t( 1 , 1 ) --> ( 0 , 1 )\n"
     ]
    },
    {
     "data": {
      "image/png": "[encoded data removed]",
      "text/plain": [
       "<Figure size 432x288 with 1 Axes>"
      ]
     },
     "metadata": {
      "needs_background": "light"
     },
     "output_type": "display_data"
    },
    {
     "name": "stdout",
     "output_type": "stream",
     "text": [
      "18.\tBumper input: {'north': False, 'south': False, 'west': True, 'east': False}\n",
      "\tDirty: False\n",
      "\taction: north\n",
      "\t( 0 , 1 ) --> ( 0 , 2 )\n"
     ]
    },
    {
     "data": {
      "image/png": "[encoded data removed]",
      "text/plain": [
       "<Figure size 432x288 with 1 Axes>"
      ]
     },
     "metadata": {
      "needs_background": "light"
     },
     "output_type": "display_data"
    },
    {
     "name": "stdout",
     "output_type": "stream",
     "text": [
      "19.\tBumper input: {'north': False, 'south': False, 'west': True, 'east': False}\n",
      "\tDirty: True\n",
      "\taction: suck\n",
      "\t( 0 , 2 ) --> ( 0 , 2 )\n"
     ]
    },
    {
     "data": {
      "image/png": "[encoded data removed]",
      "text/plain": [
       "<Figure size 432x288 with 1 Axes>"
      ]
     },
     "metadata": {
      "needs_background": "light"
     },
     "output_type": "display_data"
    },
    {
     "name": "stdout",
     "output_type": "stream",
     "text": [
      "20.\tBumper input: {'north': False, 'south': False, 'west': True, 'east': False}\n",
      "\tDirty: False\n",
      "\taction: east\n",
      "\t( 0 , 2 ) --> ( 1 , 2 )\n"
     ]
    },
    {
     "data": {
      "image/png": "[encoded data removed]",
      "text/plain": [
       "<Figure size 432x288 with 1 Axes>"
      ]
     },
     "metadata": {
      "needs_background": "light"
     },
     "output_type": "display_data"
    },
    {
     "name": "stdout",
     "output_type": "stream",
     "text": [
      "21.\tBumper input: {'north': False, 'south': False, 'west': False, 'east': False}\n",
      "\tDirty: False\n",
      "\taction: east\n",
      "\t( 1 , 2 ) --> ( 2 , 2 )\n"
     ]
    },
    {
     "data": {
      "image/png": "[encoded data removed]",
      "text/plain": [
       "<Figure size 432x288 with 1 Axes>"
      ]
     },
     "metadata": {
      "needs_background": "light"
     },
     "output_type": "display_data"
    },
    {
     "name": "stdout",
     "output_type": "stream",
     "text": [
      "22.\tBumper input: {'north': False, 'south': False, 'west': False, 'east': False}\n",
      "\tDirty: False\n",
      "\taction: east\n",
      "\t( 2 , 2 ) --> ( 3 , 2 )\n"
     ]
    },
    {
     "data": {
      "image/png": "[encoded data removed]",
      "text/plain": [
       "<Figure size 432x288 with 1 Axes>"
      ]
     },
     "metadata": {
      "needs_background": "light"
     },
     "output_type": "display_data"
    },
    {
     "name": "stdout",
     "output_type": "stream",
     "text": [
      "23.\tBumper input: {'north': False, 'south': False, 'west': False, 'east': False}\n",
      "\tDirty: True\n",
      "\taction: suck\n",
      "\t( 3 , 2 ) --> ( 3 , 2 )\n"
     ]
    },
    {
     "data": {
      "image/png": "[encoded data removed]",
      "text/plain": [
       "<Figure size 432x288 with 1 Axes>"
      ]
     },
     "metadata": {
      "needs_background": "light"
     },
     "output_type": "display_data"
    },
    {
     "name": "stdout",
     "output_type": "stream",
     "text": [
      "24.\tBumper input: {'north': False, 'south': False, 'west': False, 'east': False}\n",
      "\tDirty: False\n",
      "\taction: east\n",
      "\t( 3 , 2 ) --> ( 4 , 2 )\n"
     ]
    },
    {
     "data": {
      "image/png": "[encoded data removed]",
      "text/plain": [
       "<Figure size 432x288 with 1 Axes>"
      ]
     },
     "metadata": {
      "needs_background": "light"
     },
     "output_type": "display_data"
    },
    {
     "name": "stdout",
     "output_type": "stream",
     "text": [
      "25.\tBumper input: {'north': False, 'south': False, 'west': False, 'east': True}\n",
      "\tDirty: False\n",
      "\taction: north\n",
      "\t( 4 , 2 ) --> ( 4 , 3 )\n"
     ]
    },
    {
     "data": {
      "image/png": "[encoded data removed]",
      "text/plain": [
       "<Figure size 432x288 with 1 Axes>"
      ]
     },
     "metadata": {
      "needs_background": "light"
     },
     "output_type": "display_data"
    },
    {
     "name": "stdout",
     "output_type": "stream",
     "text": [
      "26.\tBumper input: {'north': False, 'south': False, 'west': False, 'east': True}\n",
      "\tDirty: True\n",
      "\taction: suck\n",
      "\t( 4 , 3 ) --> ( 4 , 3 )\n"
     ]
    },
    {
     "data": {
      "image/png": "[encoded data removed]",
      "text/plain": [
       "<Figure size 432x288 with 1 Axes>"
      ]
     },
     "metadata": {
      "needs_background": "light"
     },
     "output_type": "display_data"
    },
    {
     "name": "stdout",
     "output_type": "stream",
     "text": [
      "27.\tBumper input: {'north': False, 'south': False, 'west': False, 'east': True}\n",
      "\tDirty: False\n",
      "\taction: west\n",
      "\t( 4 , 3 ) --> ( 3 , 3 )\n"
     ]
    },
    {
     "data": {
      "image/png": "[encoded data removed]",
      "text/plain": [
       "<Figure size 432x288 with 1 Axes>"
      ]
     },
     "metadata": {
      "needs_background": "light"
     },
     "output_type": "display_data"
    },
    {
     "name": "stdout",
     "output_type": "stream",
     "text": [
      "28.\tBumper input: {'north': False, 'south': False, 'west': False, 'east': False}\n",
      "\tDirty: True\n",
      "\taction: suck\n",
      "\t( 3 , 3 ) --> ( 3 , 3 )\n"
     ]
    },
    {
     "data": {
      "image/png": "[encoded data removed]",
      "text/plain": [
       "<Figure size 432x288 with 1 Axes>"
      ]
     },
     "metadata": {
      "needs_background": "light"
     },
     "output_type": "display_data"
    },
    {
     "data": {
      "text/plain": [
       "(True, 27)"
      ]
     },
     "execution_count": 9,
     "metadata": {},
     "output_type": "execute_result"
    }
   ],
   "source": [
    "# Your code goes here\n",
    "has_reached_start = False\n",
    "is_moving_east = True\n",
    "def model_reflex_agent(bumpers, dirty):\n",
    "    global has_reached_start\n",
    "    global is_moving_east\n",
    "    # Navigate to bottom left corner\n",
    "    if(has_reached_start == False):\n",
    "        if(bumpers[\"west\"] == False):\n",
    "            return \"west\"\n",
    "        if(bumpers[\"south\"]== False):\n",
    "            return \"south\"\n",
    "        else:\n",
    "            has_reached_start = True;\n",
    "    # Clean the environment\n",
    "    else:\n",
    "        if(dirty == True):\n",
    "            return \"suck\"\n",
    "        if(bumpers[\"east\"] and is_moving_east):\n",
    "            is_moving_east = False\n",
    "            return \"north\"\n",
    "        if(bumpers[\"west\"] and not is_moving_east):\n",
    "            is_moving_east = True\n",
    "            return \"north\"\n",
    "        else:\n",
    "            if(is_moving_east):\n",
    "                return \"east\"\n",
    "            else:\n",
    "                return \"west\"\n",
    "simulation_environment(model_reflex_agent, max_steps = 10000, verbose= True)"
   ]
  },
  {
   "cell_type": "markdown",
   "metadata": {},
   "source": [
    "## Task 4: Simulation study [30 Points]\n",
    "\n",
    "Compare the performance (the performance measure is defined in the PEAS description above) of the agents using  environments of different size. E.g., $5 \\times 5$, $10 \\times 10$ and\n",
    "$100 \\times 100$. Use 100 random runs for each. Present the results using tables and graphs. Discuss the differences between the agents. \n",
    "([Help with charts and tables in Python](https://github.com/mhahsler/CS7320-AI/blob/master/Python_Code_Examples/charts_and_tables.ipynb))"
   ]
  },
  {
   "cell_type": "code",
   "execution_count": 10,
   "metadata": {},
   "outputs": [
    {
     "name": "stdout",
     "output_type": "stream",
     "text": [
      "Random agent\n",
      "5x5: 397.09\n",
      "10x10: 2989.15\n",
      "100x100: 2989.15\n"
     ]
    }
   ],
   "source": [
    "from IPython.display import Markdown as md\n",
    "\n",
    "total_runs = 100\n",
    "# Randomized Agent\n",
    "random_avgs = []\n",
    "random_vals1 = []\n",
    "print(\"Random agent\")\n",
    "total_steps = 0\n",
    "size = [5,5]\n",
    "for i in range(total_runs):\n",
    "    is_cleaned, num_steps = simulation_environment(simple_randomized_agent, max_steps = 100000, verbose = False)\n",
    "    total_steps += num_steps\n",
    "    random_vals1.append(num_steps)\n",
    "average = total_steps / 100\n",
    "random_avgs.append(average)\n",
    "print(\"5x5:\",average)\n",
    "\n",
    "total_steps = 0\n",
    "size = [10,10]\n",
    "random_vals2 = []\n",
    "for i in range(total_runs):\n",
    "    is_cleaned, num_steps = simulation_environment(simple_randomized_agent, max_steps = 100000, verbose = False)\n",
    "    total_steps += num_steps\n",
    "    random_vals2.append(num_steps)\n",
    "average = total_steps / 100\n",
    "random_avgs.append(average)\n",
    "print(\"10x10:\",average)\n",
    "\n",
    "total_steps = 0\n",
    "size = [100,100]\n",
    "# for i in range(total_runs):\n",
    "#     is_cleaned, num_steps = simulation_environment(simple_randomized_agent, max_steps = 100000, verbose = False)\n",
    "#     total_steps += num_steps\n",
    "# average = total_steps / 100\n",
    "random_avgs.append(100000)\n",
    "print(\"100x100:\",average)"
   ]
  },
  {
   "cell_type": "code",
   "execution_count": 11,
   "metadata": {},
   "outputs": [
    {
     "name": "stdout",
     "output_type": "stream",
     "text": [
      "Simple Reflex Agent\n",
      "5x5: 106.78\n",
      "10x10: 822.32\n",
      "100x100: 822.32\n"
     ]
    }
   ],
   "source": [
    "#Simple Reflex Agent \n",
    "print(\"Simple Reflex Agent\")\n",
    "simple_avgs = []\n",
    "simple_vals1 = []\n",
    "total_steps = 0\n",
    "size = [5,5]\n",
    "for i in range(total_runs):\n",
    "    is_cleaned, num_steps = simulation_environment(simple_reflex_agent, max_steps = 100000, verbose = False)\n",
    "    total_steps += num_steps\n",
    "    simple_vals1.append(num_steps)\n",
    "average = total_steps / 100\n",
    "simple_avgs.append(average)\n",
    "print(\"5x5:\",average)\n",
    "\n",
    "total_steps = 0\n",
    "size = [10,10]\n",
    "simple_vals2 = []\n",
    "for i in range(total_runs):\n",
    "    is_cleaned, num_steps = simulation_environment(simple_reflex_agent, max_steps = 100000, verbose = False)\n",
    "    total_steps += num_steps\n",
    "    simple_vals2.append(num_steps)\n",
    "average = total_steps / 100\n",
    "simple_avgs.append(average)\n",
    "print(\"10x10:\",average)\n",
    "\n",
    "total_steps = 0\n",
    "size = [100,100]\n",
    "# for i in range(total_runs):\n",
    "#     is_cleaned, num_steps = simulation_environment(simple_reflex_agent, max_steps = 100000, verbose = False)\n",
    "#     total_steps += num_steps\n",
    "# average = total_steps / 100\n",
    "simple_avgs.append(100000)\n",
    "print(\"100x100:\",average)"
   ]
  },
  {
   "cell_type": "code",
   "execution_count": 12,
   "metadata": {},
   "outputs": [
    {
     "name": "stdout",
     "output_type": "stream",
     "text": [
      "Model Based Reflex Agent \n",
      "5x5: 28.36\n",
      "10x0: 124.17\n",
      "100x100: 12092.87\n"
     ]
    }
   ],
   "source": [
    "#Model Based Reflex Agent \n",
    "print(\"Model Based Reflex Agent \")\n",
    "model_avgs = []\n",
    "model_vals1 = []\n",
    "total_steps = 0\n",
    "size = [5,5]\n",
    "for i in range(total_runs):\n",
    "    has_reached_start = False\n",
    "    is_moving_east = True\n",
    "    is_cleaned, num_steps = simulation_environment(model_reflex_agent, max_steps = 100000, verbose = False)\n",
    "    total_steps += num_steps\n",
    "    model_vals1.append(num_steps)\n",
    "average = total_steps / 100\n",
    "model_avgs.append(average)\n",
    "print(\"5x5:\",average)\n",
    "\n",
    "total_steps = 0\n",
    "size = [10,10]\n",
    "model_vals2 = []\n",
    "for i in range(total_runs):\n",
    "    has_reached_start = False\n",
    "    is_moving_east = True\n",
    "    is_cleaned, num_steps = simulation_environment(model_reflex_agent, max_steps = 100000, verbose = False)\n",
    "    total_steps += num_steps\n",
    "    model_vals2.append(num_steps)\n",
    "average = total_steps / 100\n",
    "model_avgs.append(average)\n",
    "print(\"10x0:\",average)\n",
    "\n",
    "total_steps = 0\n",
    "size = [100,100]\n",
    "model_vals3 = []\n",
    "for i in range(total_runs):\n",
    "    has_reached_start = False\n",
    "    is_moving_east = True\n",
    "    is_cleaned, num_steps = simulation_environment(model_reflex_agent, max_steps = 100000, verbose = False)\n",
    "    total_steps += num_steps\n",
    "    model_vals3.append(num_steps)\n",
    "average = total_steps / 100\n",
    "model_avgs.append(average)\n",
    "print(\"100x100:\",average)"
   ]
  },
  {
   "cell_type": "markdown",
   "metadata": {},
   "source": [
    "Fill out the following table with the average performance measure for 100 random runs (you may also create this table with code):\n",
    "\n",
    "| Size     | Randomized Agent | Simple Reflex Agent | Model-based Reflex Agent |\n",
    "|----------|------------------|---------------------|--------------------------|\n",
    "| 5x5     | 415.16 | 99.67 | 28.19|\n",
    "| 10x10   |3126.77  | 839.92 | 122.76 |\n",
    "| 100x100 | 100000  | 100000 |12091.98 |\n",
    "\n",
    "Add charts to compare the performance of the different agents."
   ]
  },
  {
   "cell_type": "code",
   "execution_count": 105,
   "metadata": {},
   "outputs": [
    {
     "data": {
      "image/png": "[encoded data removed]",
      "text/plain": [
       "<Figure size 432x288 with 1 Axes>"
      ]
     },
     "metadata": {},
     "output_type": "display_data"
    },
    {
     "data": {
      "text/plain": [
       "<matplotlib.legend.Legend at 0x7faaea993460>"
      ]
     },
     "execution_count": 105,
     "metadata": {},
     "output_type": "execute_result"
    },
    {
     "data": {
      "image/png": "[encoded data removed]",
      "text/plain": [
       "<Figure size 432x288 with 1 Axes>"
      ]
     },
     "metadata": {},
     "output_type": "display_data"
    }
   ],
   "source": [
    "# Your graphs and discussion of the results goes here\n",
    "import seaborn as sns \n",
    "sns.set(style=\"whitegrid\")\n",
    "plt.hist(random_vals1, bins = 20, alpha = 1, density=False)\n",
    "plt.hist(simple_vals1, bins = 20, alpha = 1, density=False)\n",
    "plt.hist(model_vals1, bins = 10, alpha = .6, density=False, color = \"green\")\n",
    "plt.xlabel(\"Number of Steps\")\n",
    "plt.ylabel(\"Density\")\n",
    "plt.legend(labels = [\"random agent\", \"simple agent\"])\n",
    "plt.show()\n",
    "\n",
    "plt.hist(model_vals1, bins = 20, alpha = 1, density=False, color = \"green\")\n",
    "plt.xlabel(\"Number of Steps\")\n",
    "plt.ylabel(\"Density\")\n",
    "plt.legend(labels = [\"model agent\"])"
   ]
  },
  {
   "cell_type": "code",
   "execution_count": 98,
   "metadata": {},
   "outputs": [
    {
     "data": {
      "image/png": "[encoded data removed]",
      "text/plain": [
       "<Figure size 432x288 with 1 Axes>"
      ]
     },
     "metadata": {},
     "output_type": "display_data"
    },
    {
     "data": {
      "text/plain": [
       "<matplotlib.legend.Legend at 0x7faaeaf8e5b0>"
      ]
     },
     "execution_count": 98,
     "metadata": {},
     "output_type": "execute_result"
    },
    {
     "data": {
      "image/png": "[encoded data removed]",
      "text/plain": [
       "<Figure size 432x288 with 1 Axes>"
      ]
     },
     "metadata": {},
     "output_type": "display_data"
    }
   ],
   "source": [
    "import seaborn as sns \n",
    "sns.set(style=\"whitegrid\")\n",
    "plt.hist(random_vals2, bins = 20, alpha = 1, density=False)\n",
    "plt.hist(simple_vals2, bins = 20, alpha = 1, density=False)\n",
    "plt.hist(model_vals2, bins = 20, alpha = .6, density=False, color = \"green\")\n",
    "plt.xlabel(\"Number of Steps\")\n",
    "plt.ylabel(\"Density\")\n",
    "plt.legend(labels = [\"random agent\", \"simple agent\"])\n",
    "plt.show()\n",
    "\n",
    "plt.hist(model_vals2, bins = 20, alpha = 1, density=False, color = \"green\")\n",
    "plt.xlabel(\"Number of Steps\")\n",
    "plt.ylabel(\"Density\")\n",
    "plt.legend(labels = [\"model agent\"])\n"
   ]
  },
  {
   "cell_type": "markdown",
   "metadata": {},
   "source": [
    "## Task 5: Robustness of the agent implementations [10 Points] \n",
    "\n",
    "Describe how your agent implementations will perform \n",
    "\n",
    "* if it is put into a rectangular room with unknown size, \n",
    "* if the cleaning area can have an iregular shape (e.g., a hallway connecting two rooms), or \n",
    "* if the room contains obstacles (i.e., squares that it cannot pass through and trigger the bumper sensors)."
   ]
  },
  {
   "cell_type": "code",
   "execution_count": 14,
   "metadata": {},
   "outputs": [],
   "source": [
    "# Answer goes here"
   ]
  },
  {
   "cell_type": "markdown",
   "metadata": {
    "tags": []
   },
   "source": [
    "## Graduate student advanced task: Obstacles [10 Points]\n",
    "\n",
    "__Undergraduate students:__ This is a bonus task you can attempt if you like [+5 Bonus Points].\n",
    "\n",
    "1. Change your simulation environment tor run experiments for the following problem: Add random obstacle squares that also trigger the bumper sensor. The agent does not know where the obstacles are. Observe how this changes the performance of the three implementations.\n",
    "\n",
    "2. Describe what would need to be done to perform better with obstacles. Add code if you can. "
   ]
  },
  {
   "cell_type": "code",
   "execution_count": 15,
   "metadata": {},
   "outputs": [],
   "source": [
    "# Your code and discussion goes here"
   ]
  },
  {
   "cell_type": "markdown",
   "metadata": {},
   "source": [
    "## More advanced implementation tasks\n",
    "\n",
    "* __Agent for and environment with obstacles:__ Implement an agent for an environment where the agent does not know how large the environment is (we assume it is rectangular), where it starts or where the obstacles are. An option would be to always move to the closest unchecked/uncleaned square (note that this is actualy depth-first search).\n",
    "\n",
    "* __Utility-based agent:__ Change the environment for a $5 \\times 5$ room, so each square has a fixed probability of getting dirty again. For the implementation, we give the environment a 2-dimensional array of probabilities. The utility of a state is defined as the number of currebntly clean squares in the room. Implement a utility-based agent that maximizes the expected utility over one full charge which lasts for 100000 time steps. To do this, the agent needs to learn the probabilities with which different squares get dirty again. This is very tricky!"
   ]
  },
  {
   "cell_type": "code",
   "execution_count": 16,
   "metadata": {},
   "outputs": [],
   "source": [
    "# Your ideas/code"
   ]
  }
 ],
 "metadata": {
  "kernelspec": {
   "display_name": "Python 3 (ipykernel)",
   "language": "python",
   "name": "python3"
  },
  "language_info": {
   "codemirror_mode": {
    "name": "ipython",
    "version": 3
   },
   "file_extension": ".py",
   "mimetype": "text/x-python",
   "name": "python",
   "nbconvert_exporter": "python",
   "pygments_lexer": "ipython3",
   "version": "3.9.7"
  },
  "toc-autonumbering": false
 },
 "nbformat": 4,
 "nbformat_minor": 4
}
