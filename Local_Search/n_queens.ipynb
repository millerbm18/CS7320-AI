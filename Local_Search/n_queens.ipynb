{
 "cells": [
  {
   "cell_type": "markdown",
   "metadata": {},
   "source": [
    "# Solving the n-Queens Problem using Local Search\n",
    "\n",
    "## Instructions\n",
    "\n",
    "Total Points: Undergrads 100 / Graduate students 110\n",
    "\n",
    "Complete this notebook. Use the provided notebook cells and insert additional code and markdown cells as needed. Submit the completely rendered notebook as a PDF file. \n"
   ]
  },
  {
   "cell_type": "markdown",
   "metadata": {},
   "source": [
    "## The n-Queens Problem\n",
    "\n",
    "* __Goal:__ Find an arrangement of $n$ queens on a $n \\times n$ chess board so that no queen is on the same row, column or diagonal as any other queen.\n",
    "\n",
    "* __State space:__ An arrangement of the queens on the board. We restrict the state space to arrangements where there is only a single queen per column. We represent a state as an integer vector $\\mathbf{q} = \\{q_1, q_2, \\dots, q_n\\}$, each number representing the row positions of the queens from left to right. We will call a state a \"board.\"\n",
    "\n",
    "* __Objective function:__ The number of pairwise conflicts (i.e., two queens in the same row/column/diagonal).\n",
    "The optimization problem is to find the optimal arrangement $\\mathbf{q}^*$ of $n$ queens on the board can be written as:\n",
    "\n",
    "  > minimize: $\\mathrm{conflicts}(\\mathbf{q})$\n",
    "  >\n",
    "  > subject to: $\\mathbf{q} \\ \\text{contains only one queen per column}$\n",
    "\n",
    "  Note: the constraint (subject to) is enforced by the definition of the state space.\n",
    "\n",
    "* __Local improvement move:__ Move one queen to a different row in its column.\n",
    "\n",
    "* __Termination:__ For this problem there is always an arrangement $\\mathbf{q}^*$ with $\\mathrm{conflicts}(\\mathbf{q}^*) = 0$, however, the local improvement moves might end up in a local minimum. "
   ]
  },
  {
   "cell_type": "markdown",
   "metadata": {},
   "source": [
    "## Helper functions"
   ]
  },
  {
   "cell_type": "code",
   "execution_count": 1,
   "metadata": {},
   "outputs": [],
   "source": [
    "import numpy as np\n",
    "import matplotlib.pyplot as plt\n",
    "from matplotlib import colors\n",
    "import random \n",
    "\n",
    "np.random.seed(1234)\n",
    "\n",
    "\n",
    "def random_board(n):\n",
    "    \"\"\"Creates a random board of size n x n. Note that only a single queen is placed in each column!\"\"\"\n",
    "    \n",
    "    return(np.random.randint(0,n, size = n))\n",
    "\n",
    "def comb2(n): return n*(n-1)//2 # this is n choose 2 equivalent to math.comb(n, 2); // is int division\n",
    "\n",
    "def conflicts(board):\n",
    "    \"\"\"Caclulate the number of conflicts, i.e., the objective function.\"\"\"\n",
    "\n",
    "    n = len(board)\n",
    "    \n",
    "    horizontal_cnt = [0] * n\n",
    "    diagonal1_cnt = [0] * 2 * n\n",
    "    diagonal2_cnt = [0] * 2 * n\n",
    "    \n",
    "    for i in range(n):\n",
    "        horizontal_cnt[board[i]] += 1\n",
    "        diagonal1_cnt[i + board[i]] += 1\n",
    "        diagonal2_cnt[i - board[i] + n] += 1\n",
    "    \n",
    "    return sum(map(comb2, horizontal_cnt + diagonal1_cnt + diagonal2_cnt))\n",
    "\n",
    "\n",
    "def show_board(board, cols = ['white', 'gray'], fontsize = 48):  \n",
    "    \"\"\"display the board\"\"\"\n",
    "    \n",
    "    n = len(board)\n",
    "    \n",
    "    # create chess board display\n",
    "    display = np.zeros([n,n])\n",
    "    for i in range(n):\n",
    "        for j in range(n):\n",
    "            if (((i+j) % 2) != 0): \n",
    "                display[i,j] = 1\n",
    "    \n",
    "    cmap = colors.ListedColormap(cols)\n",
    "    fig, ax = plt.subplots()\n",
    "    ax.imshow(display, cmap = cmap, \n",
    "              norm = colors.BoundaryNorm(range(len(cols)+1), cmap.N))\n",
    "    ax.set_xticks([])\n",
    "    ax.set_yticks([])\n",
    "    \n",
    "    # place queens. Note: Unicode u265B is a black queen\n",
    "    for j in range(n):\n",
    "        plt.text(j, board[j], u\"\\u265B\", fontsize = fontsize, \n",
    "                 horizontalalignment = 'center',\n",
    "                 verticalalignment = 'center')\n",
    "    \n",
    "    print(f\"Board with {conflicts(board)} conflicts.\")\n",
    "    plt.show()"
   ]
  },
  {
   "cell_type": "markdown",
   "metadata": {},
   "source": [
    "## Create a board"
   ]
  },
  {
   "cell_type": "code",
   "execution_count": 2,
   "metadata": {},
   "outputs": [
    {
     "name": "stdout",
     "output_type": "stream",
     "text": [
      "Board with 4 conflicts.\n"
     ]
    },
    {
     "data": {
      "image/png": "[encoded data removed]",
      "text/plain": [
       "<Figure size 432x288 with 1 Axes>"
      ]
     },
     "metadata": {},
     "output_type": "display_data"
    },
    {
     "name": "stdout",
     "output_type": "stream",
     "text": [
      "Queens (left to right) are at rows: [0 0 0 1]\n",
      "Number of conflicts: 4\n"
     ]
    }
   ],
   "source": [
    "board = random_board(4)\n",
    "board = random_board(4)\n",
    "show_board(board)\n",
    "print(f\"Queens (left to right) are at rows: {board}\")\n",
    "print(f\"Number of conflicts: {conflicts(board)}\")"
   ]
  },
  {
   "cell_type": "markdown",
   "metadata": {},
   "source": [
    "A board $4 \\times 4$ with no conflicts:"
   ]
  },
  {
   "cell_type": "code",
   "execution_count": 3,
   "metadata": {},
   "outputs": [
    {
     "name": "stdout",
     "output_type": "stream",
     "text": [
      "Board with 0 conflicts.\n"
     ]
    },
    {
     "data": {
      "image/png": "[encoded data removed]",
      "text/plain": [
       "<Figure size 432x288 with 1 Axes>"
      ]
     },
     "metadata": {},
     "output_type": "display_data"
    }
   ],
   "source": [
    "board = [1,3,0,2]\n",
    "show_board(board)"
   ]
  },
  {
   "cell_type": "markdown",
   "metadata": {},
   "source": [
    "# Tasks\n",
    "\n",
    "## General [10 Points]\n",
    "\n",
    "1. Make sure that you use the latest version of this notebook. Sync your forked repository and pull the latest revision. \n",
    "2. Your implementation can use libraries like math, numpy, scipy, but not libraries that implement inteligent agents or complete search algorithms. Try to keep the code simple! In this course, we want to learn about the algorithms and we often do not need to use object-oriented design.\n",
    "3. You notebook needs to be formated professionally. \n",
    "    - Add additional markdown blocks for your description, comments in the code, add tables and use mathplotlib to produce charts where appropriate\n",
    "    - Do not show debugging output or include an excessive amount of output.\n",
    "    - Check that your PDF file is readable. For example, long lines are cut off in the PDF file. You don't have control over page breaks, so do not worry about these.\n",
    "4. Document your code. Add a short discussion of how your implementation works and your design choices."
   ]
  },
  {
   "cell_type": "markdown",
   "metadata": {},
   "source": [
    "## Task 1: Steepest-ascend Hill Climbing Search [30 Points]\n",
    "\n",
    "Calculate the objective function for all local moves (see definition of local moves above) and always choose the best among all local moves. If there are no local moves that improve the objective, then you have reached a local optimum. "
   ]
  },
  {
   "cell_type": "code",
   "execution_count": 4,
   "metadata": {},
   "outputs": [
    {
     "name": "stdout",
     "output_type": "stream",
     "text": [
      "Starting board:\n",
      "Board with 2 conflicts.\n"
     ]
    },
    {
     "data": {
      "image/png": "[encoded data removed]",
      "text/plain": [
       "<Figure size 432x288 with 1 Axes>"
      ]
     },
     "metadata": {},
     "output_type": "display_data"
    },
    {
     "name": "stdout",
     "output_type": "stream",
     "text": [
      "Local minimum:\n",
      "Board with 0 conflicts.\n"
     ]
    },
    {
     "data": {
      "image/png": "[encoded data removed]",
      "text/plain": [
       "<Figure size 432x288 with 1 Axes>"
      ]
     },
     "metadata": {},
     "output_type": "display_data"
    },
    {
     "data": {
      "text/plain": [
       "0"
      ]
     },
     "execution_count": 4,
     "metadata": {},
     "output_type": "execute_result"
    }
   ],
   "source": [
    "# function finds the move for a column which results in the least number of conflicts\n",
    "# returns: the best row found and number of conflicts\n",
    "def find_best_row(column, board, board_size):\n",
    "    original_row = board[column]\n",
    "    best_row = original_row\n",
    "    least_conflicts = conflicts(board)\n",
    "    for i in range(board_size):\n",
    "        board[column] = i\n",
    "        if(least_conflicts>conflicts(board)):\n",
    "            least_conflicts = conflicts(board)\n",
    "            best_row = i   \n",
    "    board[column] = original_row\n",
    "    return best_row, least_conflicts\n",
    "\n",
    "# function iterates through each column and uses the find_best_row function \n",
    "# to find the move that produces the least conficts on the board, and performs the move\n",
    "# returns: the number of conflicts produced by the move \n",
    "def find_least_conflict_move(board, board_size, verbose = False):\n",
    "    min_conflicts = conflicts(board)\n",
    "    column_to_change = -1\n",
    "    new_row = 0\n",
    "    for i in range(board_size):\n",
    "        row, num_conflicts = find_best_row(i, board, board_size)\n",
    "        if(num_conflicts<min_conflicts):\n",
    "            min_conflicts = num_conflicts\n",
    "            column_to_change = i\n",
    "            new_row = row\n",
    "    if (column_to_change != -1):\n",
    "        board[column_to_change] = new_row\n",
    "        if verbose:\n",
    "            print(\"Moved queen at column\", column_to_change, \"to row\", new_row)\n",
    "            show_board(board)\n",
    "    return min_conflicts #column_to_change, new_row\n",
    "\n",
    "def steepest_ascend_hill_climb(board, board_size, verbose = False):\n",
    "    if verbose:\n",
    "        print(\"Starting board:\")\n",
    "        show_board(board)\n",
    "    current = conflicts(board)\n",
    "    while True:\n",
    "        neighbor = find_least_conflict_move(board, board_size)\n",
    "        if(neighbor >= current):\n",
    "            if verbose:\n",
    "                print(\"Local minimum:\")\n",
    "                show_board(board)\n",
    "            return current\n",
    "        current = neighbor\n",
    "\n",
    "size = 4\n",
    "b = random_board(size)        \n",
    "steepest_ascend_hill_climb(b, size, True)"
   ]
  },
  {
   "cell_type": "markdown",
   "metadata": {},
   "source": [
    "## Task 2: Stochastic Hill Climbing 1 [10 Points]\n",
    "\n",
    "Chooses randomly from among all uphill moves till you have reached a local optimum."
   ]
  },
  {
   "cell_type": "code",
   "execution_count": 5,
   "metadata": {},
   "outputs": [
    {
     "name": "stdout",
     "output_type": "stream",
     "text": [
      "Starting board:\n",
      "Board with 5 conflicts.\n"
     ]
    },
    {
     "data": {
      "image/png": "[encoded data removed]",
      "text/plain": [
       "<Figure size 432x288 with 1 Axes>"
      ]
     },
     "metadata": {},
     "output_type": "display_data"
    },
    {
     "name": "stdout",
     "output_type": "stream",
     "text": [
      "Local minimum:\n",
      "Board with 0 conflicts.\n"
     ]
    },
    {
     "data": {
      "image/png": "[encoded data removed]",
      "text/plain": [
       "<Figure size 432x288 with 1 Axes>"
      ]
     },
     "metadata": {},
     "output_type": "display_data"
    },
    {
     "data": {
      "text/plain": [
       "0"
      ]
     },
     "execution_count": 5,
     "metadata": {},
     "output_type": "execute_result"
    }
   ],
   "source": [
    "# Code and description go here\n",
    "def get_uphill_moves(board, board_size):\n",
    "    curr_conflicts = conflicts(board)\n",
    "    moves = []\n",
    "    for col in range(board_size):\n",
    "        original_val = board[col]\n",
    "        for row in range(board_size):\n",
    "            board[col] = row\n",
    "            if(conflicts(board)<curr_conflicts):\n",
    "                moves.append([col,row])\n",
    "        board[col] = original_val \n",
    "    return moves;\n",
    "\n",
    "def perform_random_uphill_move(board, board_size, verbose = False):\n",
    "    moves = get_uphill_moves(b,size)\n",
    "    if(len(moves)==0):\n",
    "        return conflicts(board)\n",
    "    move = random.choice(moves)\n",
    "    column_to_change = move[0]\n",
    "    new_row = move[1]\n",
    "    board[column_to_change] = new_row\n",
    "    if verbose:\n",
    "        print(\"Moved queen at column\", column_to_change, \"to row\", new_row)\n",
    "        show_board(board)\n",
    "    return conflicts(board)\n",
    "    \n",
    "def stochastic_hill_climb(board, board_size, verbose = False):\n",
    "    if verbose:\n",
    "        print(\"Starting board:\")\n",
    "        show_board(board)\n",
    "    current = conflicts(board)\n",
    "    while True:\n",
    "        neighbor = perform_random_uphill_move(board, board_size)\n",
    "        if(neighbor >= current):\n",
    "            if verbose:\n",
    "                print(\"Local minimum:\")\n",
    "                show_board(board)\n",
    "            return current\n",
    "        current = neighbor\n",
    "\n",
    "size = 4\n",
    "b = random_board(size) \n",
    "stochastic_hill_climb(b,size, True)"
   ]
  },
  {
   "cell_type": "markdown",
   "metadata": {},
   "source": [
    "## Task 3: Stochastic Hill Climbing 2 [20 Points]\n",
    "\n",
    "A popular version of stochastic hill climbing generates only a single random local neighbor at a time and accept it if it has a better objective function value than the current state. This is very efficient if each state has many possible successor states. This method is called \"First-choice hill climbing\" in the textbook.\n",
    "\n",
    "__Notes:__ \n",
    "\n",
    "* Detecting local optima is tricky! You can, for example, stop if you were not able to improve the objective function during the last $x$ tries."
   ]
  },
  {
   "cell_type": "code",
   "execution_count": 6,
   "metadata": {},
   "outputs": [
    {
     "name": "stdout",
     "output_type": "stream",
     "text": [
      "Starting board:\n",
      "Board with 4 conflicts.\n"
     ]
    },
    {
     "data": {
      "image/png": "[encoded data removed]",
      "text/plain": [
       "<Figure size 432x288 with 1 Axes>"
      ]
     },
     "metadata": {},
     "output_type": "display_data"
    },
    {
     "name": "stdout",
     "output_type": "stream",
     "text": [
      "Local minimum:\n",
      "Board with 1 conflicts.\n"
     ]
    },
    {
     "data": {
      "image/png": "[encoded data removed]",
      "text/plain": [
       "<Figure size 432x288 with 1 Axes>"
      ]
     },
     "metadata": {},
     "output_type": "display_data"
    },
    {
     "data": {
      "text/plain": [
       "1"
      ]
     },
     "execution_count": 6,
     "metadata": {},
     "output_type": "execute_result"
    }
   ],
   "source": [
    "def perform_first_choice_move(board, board_size, verbose = False):\n",
    "    curr_conflicts = conflicts(board)\n",
    "    if (curr_conflicts == 0):\n",
    "        return 0;\n",
    "    column_to_change = 0\n",
    "    new_row = 0\n",
    "    max_tries = 20;\n",
    "    for i in range(max_tries):\n",
    "        # chose random row\n",
    "        column_to_change = random.randint(0,board_size-1);\n",
    "        # save original value from row\n",
    "        original_val = board[column_to_change]\n",
    "        #assign new random value to the row\n",
    "        new_row = random.randint(0,board_size-1);\n",
    "        board[column_to_change] = new_row\n",
    "        #check if there are less collisions\n",
    "        if (conflicts(board)<curr_conflicts):\n",
    "            if verbose:\n",
    "                print(\"Moved queen at column\", column_to_change, \"to row\", new_row)\n",
    "                show_board(board)\n",
    "            return conflicts(board)\n",
    "        else:\n",
    "            board[column_to_change] = original_val\n",
    "    return conflicts(board)\n",
    "\n",
    "def first_choice_hill_climb(board, board_size, verbose = False):\n",
    "    if verbose:\n",
    "        print(\"Starting board:\")\n",
    "        show_board(board)\n",
    "    current = conflicts(board)\n",
    "    while True:\n",
    "        neighbor = perform_first_choice_move(board, board_size)\n",
    "        if(neighbor >= current):\n",
    "            if verbose:\n",
    "                print(\"Local minimum:\")\n",
    "                show_board(board)\n",
    "            return current\n",
    "        current = neighbor\n",
    "\n",
    "size = 4\n",
    "b = random_board(size) \n",
    "first_choice_hill_climb(b,size, True)"
   ]
  },
  {
   "cell_type": "markdown",
   "metadata": {},
   "source": [
    "## Task 4: Hill Climbing Search with Random Restarts [10 Points]\n",
    "\n",
    "Hill climbing will often end up in local optima. Restart the each of the three hill climbing algorithm up to 100 times with a random board to find a better (hopefully optimal) solution. Note that restart just means to run the algoithm several times starting with a new random board."
   ]
  },
  {
   "cell_type": "code",
   "execution_count": 7,
   "metadata": {},
   "outputs": [
    {
     "name": "stdout",
     "output_type": "stream",
     "text": [
      "Better solution found 0\n",
      "Better solution found 82\n",
      "Board with 0 conflicts.\n"
     ]
    },
    {
     "data": {
      "image/png": "[encoded data removed]",
      "text/plain": [
       "<Figure size 432x288 with 1 Axes>"
      ]
     },
     "metadata": {},
     "output_type": "display_data"
    }
   ],
   "source": [
    "def random_restart_steepest_ascend(board_size, restarts):\n",
    "    board = random_board(board_size)\n",
    "    optimal_board = board\n",
    "    optimal_conflicts = conflicts(board)\n",
    "    for i in range(restarts):\n",
    "        board = random_board(board_size)\n",
    "        curr_conflicts= steepest_ascend_hill_climb(board, board_size)\n",
    "        if (curr_conflicts<optimal_conflicts):\n",
    "            optimal_conflicts = curr_conflicts\n",
    "            optimal_board = board;\n",
    "    return optimal_board\n",
    "\n",
    "def random_restart_stochastic(board_size, restarts):\n",
    "    board = random_board(board_size)\n",
    "    optimal_board = board\n",
    "    optimal_conflicts = conflicts(board)\n",
    "    for i in range(restarts):\n",
    "        board = random_board(board_size)\n",
    "        curr_conflicts= stochastic_hill_climb(board, board_size)\n",
    "        if (curr_conflicts<optimal_conflicts):\n",
    "            optimal_conflicts = curr_conflicts\n",
    "            optimal_board = board;\n",
    "    return optimal_board\n",
    "\n",
    "def random_restart_first_choice(board_size, restarts):\n",
    "    board = random_board(board_size)\n",
    "    optimal_board = board\n",
    "    optimal_conflicts = conflicts(board)\n",
    "    for i in range(restarts):\n",
    "        board = random_board(board_size)\n",
    "        curr_conflicts= first_choice_hill_climb(board, board_size)\n",
    "        if (curr_conflicts<optimal_conflicts):\n",
    "            optimal_conflicts = curr_conflicts\n",
    "            optimal_board = board;\n",
    "    return optimal_board\n",
    "\n",
    "board = random_restart_stochastic(5, 100)\n",
    "show_board(board)"
   ]
  },
  {
   "cell_type": "markdown",
   "metadata": {},
   "source": [
    "## Task 5: Compare Performance [20 Points]\n",
    "\n",
    "Use runtime and objective function value to compare the algorithms. \n",
    "\n",
    "* Use boards of different sizes to explore how the different algorithms perform. Make sure that you run the algorithms for each board size several times (at least 10 times) with different starting boards and report averages.\n",
    "\n",
    "* How do the algorithms scale with problem size? Use tables and charts.\n",
    "\n",
    "* What is the largest board each algorithm can solve in a reasonable amount time?\n",
    "\n",
    "See [Profiling Python Code](../Python_Code_Examples/profiling_code.ipynb) for help about how to measure runtime in Python."
   ]
  },
  {
   "cell_type": "code",
   "execution_count": 8,
   "metadata": {},
   "outputs": [],
   "source": [
    "# Code, results, charts and discussion go here"
   ]
  },
  {
   "cell_type": "markdown",
   "metadata": {},
   "source": [
    "## Graduate student advanced task: Simulated Annealing [10 Points]\n",
    "\n",
    "__Undergraduate students:__ This is a bonus task you can attempt if you like [+5 Bonus Points].\n",
    "\n",
    "Simulated annealing is a form of stochastic hill climbing that avoid local optima by also allowing downhill moves with a probability proportional to a temperature. The temperature is decreased in every iteration following an annealing schedule. You have to experiment with the annealing schedule (Google to find guidance on this).\n",
    "\n",
    "\n",
    "1. Implement simulated annealing for the n-Queens problem.\n",
    "2. Compare the performance with the previous algorithms. \n",
    "2. Discuss your choice of annealing schedule."
   ]
  },
  {
   "cell_type": "code",
   "execution_count": 9,
   "metadata": {
    "tags": []
   },
   "outputs": [],
   "source": [
    "# Code and description go here"
   ]
  },
  {
   "cell_type": "markdown",
   "metadata": {},
   "source": [
    "## More things to do\n",
    "\n",
    "Implement a Genetic Algorithm for the n-Queens problem."
   ]
  },
  {
   "cell_type": "code",
   "execution_count": 10,
   "metadata": {
    "tags": []
   },
   "outputs": [],
   "source": [
    "# Code and description go here"
   ]
  }
 ],
 "metadata": {
  "kernelspec": {
   "display_name": "Python 3 (ipykernel)",
   "language": "python",
   "name": "python3"
  },
  "language_info": {
   "codemirror_mode": {
    "name": "ipython",
    "version": 3
   },
   "file_extension": ".py",
   "mimetype": "text/x-python",
   "name": "python",
   "nbconvert_exporter": "python",
   "pygments_lexer": "ipython3",
   "version": "3.9.7"
  },
  "toc-autonumbering": false,
  "toc-showcode": false,
  "toc-showmarkdowntxt": false,
  "toc-showtags": false
 },
 "nbformat": 4,
 "nbformat_minor": 4
}
