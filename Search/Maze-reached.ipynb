{
 "cells": [
  {
   "cell_type": "markdown",
   "metadata": {},
   "source": [
    "# Search: Solving a Maze Using a Goal-based Agent\n",
    "\n",
    "## Instructions\n",
    "\n",
    "Total Points: Undergrads 100 / Graduate students 110\n",
    "\n",
    "Complete this notebook. Use the provided notebook cells and insert additional code and markdown cells as needed. Submit the completely rendered notebook as a PDF file. \n",
    "\n",
    "\n",
    "## Introduction\n",
    "\n",
    "The agent has a map of the maze it is in and the environment is assumed to be **deterministic, discrete, and known.** The agent must use the map to plan a path through the maze from the starting location $S$ to the goal location $G$.  This is a planing exercise for a goal-based agent, so you do not need to implement an environment, just use the map to search for a path. Once the plan is made, the agent in a deterministic environment (i.e., the transition function is deterministic with the outcome of each state/action pair fixed and no randomness) can just follow the path and does not need to care about the percepts.\n",
    "This is also called an **[open-loop system](https://en.wikipedia.org/wiki/Open-loop_controller).**\n",
    "The execution phase is trivial and we do not implement it in this exercise.\n",
    "\n",
    "Tree search algorithm implementations that you find online and used in general algorithms courses have often a different aim. These algorithms assume that you already have a tree in memory. We are interested in dynamically creating a search tree with the aim of finding a good/the best path from the root noteto the goal state. Follow the pseudo code presented in the text book (and replicated in the slides) closely. Ideally, we would like to search only a small part of the maze, i.e., create a search tree with as few nodes as possible. \n",
    "\n",
    "Several mazes for this exercise are stored as text files. Here is the small example maze:"
   ]
  },
  {
   "cell_type": "code",
   "execution_count": 1,
   "metadata": {},
   "outputs": [
    {
     "name": "stdout",
     "output_type": "stream",
     "text": [
      "XXXXXXXXXXXXXXXXXXXXXXXXXXXXXXXXXXXX\n",
      "X                                 SX\n",
      "X XXXXXXXXXXXXXXXXXXXXXXX XXXXXXXX X\n",
      "X XX   X   X      XXXXXXX   XX     X\n",
      "X XX X X X X XXXX XXXXXXXXX XX XXXXX\n",
      "X XX X X X X             XX XX     X\n",
      "X XX X X X X X XXXX  XXX    XXXXXX X\n",
      "X X  X X X   X    XX XXXXXXXX      X\n",
      "X XX X X XXXXXXXX XX        XX XXXXX\n",
      "X XX X   XX       XXXXXXXXX XX     X\n",
      "X    XXXXXX XXXXXXX      XX XXXXXX X\n",
      "XXXXXX      X       XXXX XX X      X\n",
      "X      XXXXXX XXXXX X    XX XX XXXXX\n",
      "X XXXXXX      X       XXXXX XX     X\n",
      "X        XXXXXX XXXXXXXXXXX XX  XX X\n",
      "XXXXXXXXXX                  XXXXXX X\n",
      "XG         XXXXXXXXXXXXXXXX        X\n",
      "XXXXXXXXXXXXXXXXXXXXXXXXXXXXXXXXXXXX\n",
      "\n",
      "\n"
     ]
    }
   ],
   "source": [
    "with open(\"medium_maze.txt\", \"r\") as f:\n",
    "    maze_str = f.read()\n",
    "print(maze_str)"
   ]
  },
  {
   "cell_type": "markdown",
   "metadata": {},
   "source": [
    "__Note:__ The mazes above contains cycles and therefore the state space may not form proper trees unless cycles are prevented. Therfore, you will need to deal with cycle detection in your code."
   ]
  },
  {
   "cell_type": "markdown",
   "metadata": {},
   "source": [
    "## Parsing and pretty printing the maze\n",
    "\n",
    "The maze can also be displayed in color using code in the module [maze_helper.py](maze_helper.py). The code parses the string representing the maze and converts it into a `numpy` 2d array which you can use in your implementation. Position are represented as a 2-tuple of the form `(row, col)`. "
   ]
  },
  {
   "cell_type": "code",
   "execution_count": 2,
   "metadata": {
    "tags": []
   },
   "outputs": [
    {
     "name": "stdout",
     "output_type": "stream",
     "text": [
      "Position(0,0): X\n",
      "Position(8,1):  \n"
     ]
    }
   ],
   "source": [
    "import maze_helper as mh\n",
    "\n",
    "ex_maze = mh.parse_maze(maze_str)\n",
    "\n",
    "# look at a position in the maze by subsetting the 2d array\n",
    "print(\"Position(0,0):\", ex_maze[0, 0])\n",
    "\n",
    "# there is also a helper function called `look(maze, pos)` available\n",
    "# which uses a 2-tuple for the position.\n",
    "print(\"Position(8,1):\", mh.look(ex_maze, (8, 1)))"
   ]
  },
  {
   "cell_type": "markdown",
   "metadata": {},
   "source": [
    "A helper function to visualize the maze is also available."
   ]
  },
  {
   "cell_type": "code",
   "execution_count": 3,
   "metadata": {},
   "outputs": [
    {
     "data": {
      "image/png": "[encoded data removed]",
      "text/plain": [
       "<Figure size 432x288 with 1 Axes>"
      ]
     },
     "metadata": {
      "image/png": {
       "height": 198,
       "width": 380
      },
      "needs_background": "light"
     },
     "output_type": "display_data"
    }
   ],
   "source": [
    "%matplotlib inline\n",
    "%config InlineBackend.figure_format = 'retina'\n",
    "# use higher resolution images in notebook\n",
    "\n",
    "mh.show_maze(ex_maze)"
   ]
  },
  {
   "cell_type": "markdown",
   "metadata": {},
   "source": [
    "Find the position of the start and the goal using the helper function `find_pos()`"
   ]
  },
  {
   "cell_type": "code",
   "execution_count": 4,
   "metadata": {},
   "outputs": [
    {
     "name": "stdout",
     "output_type": "stream",
     "text": [
      "Start location: (1, 34)\n",
      "Goal location: (16, 1)\n"
     ]
    }
   ],
   "source": [
    "print(\"Start location:\", mh.find_pos(ex_maze, what = \"S\"))\n",
    "print(\"Goal location:\", mh.find_pos(ex_maze, what = \"G\"))"
   ]
  },
  {
   "cell_type": "markdown",
   "metadata": {},
   "source": [
    "Helper function documentation."
   ]
  },
  {
   "cell_type": "code",
   "execution_count": 5,
   "metadata": {},
   "outputs": [
    {
     "name": "stdout",
     "output_type": "stream",
     "text": [
      "Help on module maze_helper:\n",
      "\n",
      "NAME\n",
      "    maze_helper\n",
      "\n",
      "DESCRIPTION\n",
      "    Code for the Maze Assignment by Michael Hahsler\n",
      "    Usage: \n",
      "        import maze_helper as mh\n",
      "        mh.show_some_mazes()\n",
      "\n",
      "FUNCTIONS\n",
      "    find_pos(maze, what='S')\n",
      "        Find start/goal in a maze and returns the first one. \n",
      "        Caution: there is no error checking!\n",
      "        \n",
      "        Parameters:\n",
      "        maze: a array with characters prodced by parse_maze()\n",
      "        what: the letter to be found ('S' for start and 'G' for goal)\n",
      "        \n",
      "        Returns:\n",
      "        a tupple (x, y) for the found position.\n",
      "    \n",
      "    look(maze, pos)\n",
      "        Look at the label of a square with the position as an array of the form (x, y).\n",
      "    \n",
      "    parse_maze(maze_str)\n",
      "        Convert a maze as a string into a 2d numpy array\n",
      "    \n",
      "    show_maze(maze, fontsize=10)\n",
      "        Display a (parsed) maze as an image.\n",
      "    \n",
      "    welcome()\n",
      "        Welcome message.\n",
      "\n",
      "FILE\n",
      "    /home/jovyan/CS7320-AI/Search/maze_helper.py\n",
      "\n",
      "\n"
     ]
    }
   ],
   "source": [
    "help(mh)"
   ]
  },
  {
   "cell_type": "markdown",
   "metadata": {},
   "source": [
    "## Tree structure\n",
    "\n",
    "Here is an implementation of the basic node structure for the search algorithms (see Fig 3.7 on page 73). I have added a method that extracts the path from the root node to the current node. It can be used to get the path when the search is completed."
   ]
  },
  {
   "cell_type": "code",
   "execution_count": 6,
   "metadata": {},
   "outputs": [],
   "source": [
    "class Node:\n",
    "    def __init__(self, pos, parent, action, cost, h = 0):\n",
    "        self.pos = tuple(pos)    # the state; positions are (row,col)\n",
    "        self.parent = parent     # reference to parent node. None means root node.\n",
    "        self.action = action     # action used in the transition function (root node has None)\n",
    "        self.cost = cost         # for uniform cost this is the depth. It is also g(n) for A* search\n",
    "        self.h = h               # for greedy first and A* search \n",
    "    def __str__(self):\n",
    "        return f\"Node - pos = {self.pos}; action = {self.action}; cost = {self.cost}\"\n",
    "    \n",
    "    def get_path_from_root(self):\n",
    "        \"\"\"returns nodes on the path from the root to the current node.\"\"\"\n",
    "        node = self\n",
    "        path = [node]\n",
    "    \n",
    "        while not node.parent is None:\n",
    "            node = node.parent\n",
    "            path.append(node)\n",
    "        \n",
    "        path.reverse()\n",
    "        \n",
    "        return(path)"
   ]
  },
  {
   "cell_type": "markdown",
   "metadata": {},
   "source": [
    "If needed, then you can add more fields to the class like the heuristic value $h(n)$ or $f(n)$.\n",
    "\n",
    "Examples for how to create and use a tree and information on memory management can be found [here](../Python_Code_Examples/trees.ipynb)."
   ]
  },
  {
   "cell_type": "markdown",
   "metadata": {},
   "source": [
    "# Tasks\n",
    "\n",
    "The goal is to:\n",
    "\n",
    "1. Implement the following search algorithms for solving different mazes:\n",
    "\n",
    "    - Breadth-first search (BFS)\n",
    "    - Depth-first search (DFS)\n",
    "    - Greedy best-first search (GBFS)\n",
    "    - A* search\n",
    "\n",
    "2. Run each of the above algorithms on the \n",
    "    - [small maze](small_maze.txt), \n",
    "    - [medium maze](medium_maze.txt), \n",
    "    - [large maze](large_maze.txt), \n",
    "    - [open maze](open_maze.txt),\n",
    "    - [wall maze](wall_maze.txt),\n",
    "    - [loops maze](loops_maze.txt),\n",
    "    - [empty maze](empty_maze.txt), and\n",
    "    - [empty 2_maze](empty_2_maze.txt).\n",
    "    \n",
    "3. For each problem instance and each search algorithm, report the following in a table:\n",
    "\n",
    "    - The solution and its path cost\n",
    "    - Total number of nodes expanded\n",
    "    - Maximum tree depth\n",
    "    - Maximum size of the frontier\n",
    "\n",
    "4. Display each solution by marking every maze square (or state) visited and the squares on the final path.\n",
    "\n",
    "## General [10 Points]\n",
    "\n",
    "1. Make sure that you use the latest version of this notebook. Sync your forked repository and pull the latest revision. \n",
    "2. Your implementation can use libraries like math, numpy, scipy, but not libraries that implement inteligent agents or complete search algorithms. Try to keep the code simple! In this course, we want to learn about the algorithms and we often do not need to use object-oriented design.\n",
    "3. You notebook needs to be formated professionally. \n",
    "    - Add additional markdown blocks for your description, comments in the code, add tables and use mathplotlib to produce charts where appropriate\n",
    "    - Do not show debugging output or include an excessive amount of output.\n",
    "    - Check that your PDF file is readable. For example, long lines are cut off in the PDF file. You don't have control over page breaks, so do not worry about these.\n",
    "4. Document your code. Add a short discussion of how your implementation works and your design choices."
   ]
  },
  {
   "cell_type": "markdown",
   "metadata": {},
   "source": [
    "## Task 1: Defining the search problem and determining the problem size [10 Points]\n",
    "\n",
    "Define the components of the search problem:\n",
    "\n",
    "* Initial state\n",
    "* Actions\n",
    "* Transition model\n",
    "* Goal state\n",
    "* Path cost\n",
    "\n",
    "Use verbal descriptions, variables and equations as appropriate. \n",
    "\n",
    "*Note:* You can swich the next block from code to Markdown and use formating."
   ]
  },
  {
   "cell_type": "markdown",
   "metadata": {},
   "source": [
    "# Your answer goes here\n",
    "* Initial state: The initial state of the search problem is the initial state of each space in the maze (start, goal, open, or wall).\n",
    "* Actions: The possible actions are to move north, east, south, or west from the current position (unless there is wall in the way).\n",
    "* Transition model: Once an action is perfomed (moving in a direction) the new state has a new current search path and a new visited nodes list. \n",
    "* Goal state: The goal state is to have the agent in the goal square of the maze.\n",
    "* Path cost: Number of moves to reach goal."
   ]
  },
  {
   "cell_type": "markdown",
   "metadata": {},
   "source": [
    "Give some estimates for the problem size:\n",
    "\n",
    "* $n$: state space size\n",
    "* $d$: depth of the optimal solution\n",
    "* $m$: maximum depth of tree\n",
    "* $b$: maximum branching factor\n",
    "\n",
    "Describe how you would determin these values for a given maze."
   ]
  },
  {
   "cell_type": "markdown",
   "metadata": {
    "tags": []
   },
   "source": [
    "# Your answer goes here\n",
    "* $n$: the state space would be the number of possible state the maze could be in.For an overestimate, let's say each space can be either open and unreached, open and reached, a wall, the start, or the goal. This gives us 5 possible space states. With a maze of dimensions $m$ x $n$, this overestimate would give us a state space of 5^($m$ x $n$).\n",
    "* $d$: the depth of the optimal solution depends on the number of walls in the maze, but for an empty maze the optimal solution would just be the manhattan distance from the start to the goal. You could also use a BFS to find the depth of the optimal solution.\n",
    "* $m$: the maximum depth of the tree could be every square in the maze if the whole maze is explored. To find the maximum depth, you would need to get the path length at each new reached space in the maze. If the new depth is larger than the max, then set the max depth. \n",
    "* $b$: the maximum branching factor can be found by finding the max number of spaces in the frontier at once. "
   ]
  },
  {
   "cell_type": "markdown",
   "metadata": {},
   "source": [
    "## Task 2: Uninformed search: Breadth-first and depth-first [40 Points]\n",
    "\n",
    "Implement these search strategies. Follow the pseudocode in the textbook/slides. You can use the tree structure shown above to extract the final path from your solution.\n",
    "\n",
    "__Notes:__\n",
    "* You can find maze solving implementations online that use the map to store information. While this is an effective idea for this two-dimensional navigation problem, it typically cannot be used for other search problems. Therefore, follow the textbook and only store information in the tree created during search, and use the `reached` and `frontier` data structures.\n",
    "* DSF can be implemented using the BFS tree search algorithm and simply changing the order in which the frontier is expanded (this is equivalent to best-first search with path length as the criterion to expand the next node). However, to take advantage of the significantly smaller memory footprint of DFS, you need to implement DFS in a different way without a `reached` data structure and by releasing the memory for nodes that are not needed anymore. \n",
    "* If DFS does not use a `reached` data structure, then its cycle checking abilities are limited. Remember, that DSF is incomplete if cycles cannot be prevented. You will see in your experiments that open spaces are a problem."
   ]
  },
  {
   "cell_type": "markdown",
   "metadata": {},
   "source": [
    "# Helper functions "
   ]
  },
  {
   "cell_type": "code",
   "execution_count": 7,
   "metadata": {},
   "outputs": [],
   "source": [
    "num_nodes_expanded = 0\n",
    "max_depth = 0\n",
    "max_frontier = 0\n",
    "max_memory = 0\n",
    "\n",
    "# Used to check if a space is an available space to move to\n",
    "def is_valid_space(node, maze, q, reached):\n",
    "    # Out of bounds check\n",
    "    if(node.pos[0]<0 or node.pos[0]>len(maze)-1):\n",
    "        return False\n",
    "    if(node.pos[1]<0 or node.pos[1]>len(maze[0])-1):\n",
    "        return False\n",
    "    # Wall check\n",
    "    if(mh.look(maze,node.pos)==\"X\"):\n",
    "        return False\n",
    "    if(mh.look(maze,node.pos)==\"S\"):\n",
    "        return False\n",
    "    if(node.pos in reached):\n",
    "        return False\n",
    "    if(node in q):\n",
    "        return False\n",
    "    return True\n",
    "\n",
    "# getting heuristic for greedy searches\n",
    "def get_manhattan(a,b):\n",
    "    return sum(abs(val1-val2) for val1, val2 in zip(a,b))\n",
    "\n",
    "def expand_node(maze, node, q, reached, goal):\n",
    "    global num_nodes_expanded\n",
    "    if(is_valid_space(node, maze, q, reached)):\n",
    "        node.h = get_manhattan(a = node.pos, b = goal)\n",
    "        y,x = node.pos\n",
    "        if(not mh.look(maze,node.pos) == \"G\"):\n",
    "            maze[y,x] = \"F\"\n",
    "        q.append(node)\n",
    "        num_nodes_expanded+=1\n",
    "\n",
    "#Expands the frontier of DFS and BFS\n",
    "def expand(maze, front, q, reached, goal = 0):\n",
    "    verbose = False\n",
    "    if(verbose):\n",
    "        mh.show_maze(maze)\n",
    "    # goal is passed if the heuristic value is to be calculated\n",
    "    if(goal==0):\n",
    "        goal = front.pos\n",
    "    pos = front.pos\n",
    "    state = mh.look(maze, pos)\n",
    "    \n",
    "    # if the next space in frontier is empty, explore its valid neighbors (N,E,S,W)\n",
    "    if(state == \"F\" or state == \"S\" ):\n",
    "        y, x = pos\n",
    "        n = Node(pos = (y - 1, x), parent = front, action = \"N\", cost = 1+front.cost)\n",
    "        expand_node(maze, n, q, reached, goal)\n",
    "\n",
    "        e = Node(pos = (y, x + 1), parent = front, action = \"E\", cost = 1+front.cost)\n",
    "        expand_node(maze, e, q, reached, goal)\n",
    "\n",
    "        s = Node(pos = (y + 1, x), parent = front, action = \"S\", cost = 1+front.cost)\n",
    "        expand_node(maze, s, q, reached, goal)\n",
    "\n",
    "        w = Node(pos = (y, x - 1), parent = front, action = \"W\", cost = 1+front.cost)\n",
    "        expand_node(maze, w, q, reached, goal)    \n",
    "\n",
    "        # mark the current node as explored\n",
    "        if(not state ==\"S\"):\n",
    "            reached.append(pos)\n",
    "            maze[y,x] = \".\"\n",
    "    \n",
    "def get_final_path(front, maze):\n",
    "    # Get the path to from start to goal\n",
    "    path = front.get_path_from_root()\n",
    "    \n",
    "    # Mark every spot of the path as a path tile unless it is the S or G space\n",
    "    for x in path:\n",
    "        if(not (mh.look(maze, x.pos)==\"S\" or mh.look(maze, x.pos)==\"G\")):\n",
    "            y,x =x.pos\n",
    "            maze[y,x] = \"P\"\n",
    "    return front\n",
    "\n",
    "def get_maze(maze_name):\n",
    "    with open(maze_name, \"r\") as f:\n",
    "        maze_str = f.read()\n",
    "    return mh.parse_maze(maze_str) \n",
    "# def print_results(name, path_cost, num_expanded, depth, frontier "
   ]
  },
  {
   "cell_type": "markdown",
   "metadata": {
    "tags": []
   },
   "source": [
    "# BFS"
   ]
  },
  {
   "cell_type": "code",
   "execution_count": 8,
   "metadata": {},
   "outputs": [],
   "source": [
    "def BFS(maze):\n",
    "    \n",
    "    global num_nodes_expanded\n",
    "    num_nodes_expanded = 0\n",
    "    global max_depth\n",
    "    max_depth = 0\n",
    "    global max_frontier\n",
    "    max_frontier = 0\n",
    "    global max_memory\n",
    "    max_memory = 0\n",
    "    \n",
    "    #initialize root node to starting pos\n",
    "    start = mh.find_pos(maze, what = \"S\")\n",
    "    root = Node(pos = start, parent = None, action = None, cost = 0)\n",
    "    q = [root]\n",
    "    reached = []\n",
    "    \n",
    "    # iterate through the queue of nodes while it still contains elements\n",
    "    while(q):\n",
    "        # get max depth of frontier\n",
    "        if(len(q)>max_frontier):\n",
    "            max_frontier = len(q)\n",
    "            \n",
    "        # get next element in the queue\n",
    "        front = q.pop(0)\n",
    "        \n",
    "        # get max depth of tree\n",
    "        if(front.cost>max_depth):\n",
    "            max_depth = front.cost\n",
    "            \n",
    "        #get the state of the current element\n",
    "        state = mh.look(maze, front.pos)   \n",
    "\n",
    "        # if goal is found then highlight the final path on the maze and return the path\n",
    "        if(state == \"G\"):\n",
    "            return get_final_path(front, maze).cost, num_nodes_expanded, max_depth, max_memory, max_frontier\n",
    "        \n",
    "        # otherwise keep exploring\n",
    "        expand(maze, front, q, reached)         "
   ]
  },
  {
   "cell_type": "code",
   "execution_count": null,
   "metadata": {},
   "outputs": [],
   "source": []
  },
  {
   "cell_type": "markdown",
   "metadata": {},
   "source": [
    "# DFS"
   ]
  },
  {
   "cell_type": "code",
   "execution_count": 9,
   "metadata": {},
   "outputs": [],
   "source": [
    "def DFS(maze):\n",
    "    global num_nodes_expanded\n",
    "    num_nodes_expanded = 0\n",
    "    global max_depth\n",
    "    max_depth = 0\n",
    "    global max_frontier\n",
    "    max_frontier = 0\n",
    "    global max_memory\n",
    "    max_memory = 0\n",
    "    \n",
    "    #initialize root node to starting pos\n",
    "    start = mh.find_pos(maze, what = \"S\")\n",
    "    root = Node(pos = start, parent = None, action = None, cost = 0)\n",
    "    stack = [root]\n",
    "    reached = []\n",
    "    \n",
    "    # iterate through the stack of nodes while it still contains elements\n",
    "    while(stack):\n",
    "        # get max depth of frontier\n",
    "        if(len(stack)>max_frontier):\n",
    "            max_frontier = len(stack)\n",
    "            \n",
    "        # get next element in the stack\n",
    "        front = stack.pop()\n",
    "        \n",
    "        # get max depth of tree\n",
    "        if(front.cost>max_depth):\n",
    "            max_depth = front.cost\n",
    "            \n",
    "        #get the state of the current element\n",
    "        state = mh.look(maze, front.pos) \n",
    "        \n",
    "        # if goal is found then highlight the final path on the maze and return the path\n",
    "        if(state == \"G\"):\n",
    "            return get_final_path(front, maze).cost, num_nodes_expanded, max_depth, max_memory, max_frontier\n",
    "        \n",
    "        # otherwise keep exploring \n",
    "        expand(maze, front, stack, reached)"
   ]
  },
  {
   "cell_type": "code",
   "execution_count": null,
   "metadata": {},
   "outputs": [],
   "source": []
  },
  {
   "cell_type": "markdown",
   "metadata": {},
   "source": [
    "How does BFS and DFS deal with loops (cycles)?"
   ]
  },
  {
   "cell_type": "markdown",
   "metadata": {},
   "source": [
    "# Discussion\n",
    "The BFS and DFS are very similar because they both loop through grabbing the next possible space to move to, and then exploring its neighbors.  The difference in the two is that BFS will explore the neighbors by adding them to its frontier, then accessing them with a queue data structure (first in first out). DFS will also explore the neighbors by adding them to its frontier, but DFS accesses them with a stack data structure (first in last out).  "
   ]
  },
  {
   "cell_type": "markdown",
   "metadata": {},
   "source": [
    "Are your implementations complete and optimal? Explain why. What is the time and space complexity of each of **your** implementations?"
   ]
  },
  {
   "cell_type": "markdown",
   "metadata": {},
   "source": [
    "# Discussion\n"
   ]
  },
  {
   "cell_type": "markdown",
   "metadata": {},
   "source": [
    "## Task 3: Informed search: Implement greedy best-first search and A* search  [20 Points]\n",
    "\n",
    "You can use the map to estimate the distance from your current position to the goal using the Manhattan distance (see https://en.wikipedia.org/wiki/Taxicab_geometry) as a heuristic function. Both algorithms are based on Best-First search which requires only a small change from the BFS algorithm you have already implemented (see textbook/slides). \n",
    "\n",
    "# Greedy Best First Search"
   ]
  },
  {
   "cell_type": "code",
   "execution_count": 10,
   "metadata": {},
   "outputs": [],
   "source": [
    "def best_first_search(maze):\n",
    "    global num_nodes_expanded\n",
    "    num_nodes_expanded = 0\n",
    "    global max_depth\n",
    "    max_depth = 0\n",
    "    global max_frontier\n",
    "    max_frontier = 0\n",
    "    global max_memory\n",
    "    max_memory = 0\n",
    "    \n",
    "    #initialize root node to starting pos\n",
    "    start = mh.find_pos(maze, what = \"S\")\n",
    "    goal = mh.find_pos(maze, what = \"G\")\n",
    "    hn = get_manhattan(start, goal)\n",
    "    root = Node(pos = start, parent = None, action = None, cost = 0, h = hn)\n",
    "    q = [root]\n",
    "    reached =[]\n",
    "    \n",
    "    # iterate through the queue of nodes while it still contains elements\n",
    "    while(q):\n",
    "        # get max depth of frontier\n",
    "        if(len(q)>max_frontier):\n",
    "            max_frontier = len(q)\n",
    "            \n",
    "        # lambda operation gets the tile with the smallest heuristic value\n",
    "        front = min(q, key = lambda node: node.h)  \n",
    "        q.remove(front)\n",
    "        \n",
    "        # get max depth of tree\n",
    "        if(front.cost>max_depth):\n",
    "            max_depth = front.cost\n",
    "            \n",
    "        #get the state of the current element\n",
    "        state = mh.look(maze, front.pos)   \n",
    "\n",
    "        # if goal is found then highlight the final path on the maze and return the path\n",
    "        if(state == \"G\"):\n",
    "            return get_final_path(front, maze).cost, num_nodes_expanded, max_depth, max_memory, max_frontier\n",
    "        \n",
    "        # otherwise keep exploring\n",
    "        expand(maze, front, q, reached, goal)   "
   ]
  },
  {
   "cell_type": "code",
   "execution_count": 11,
   "metadata": {},
   "outputs": [],
   "source": [
    "def a_star(maze):\n",
    "    global num_nodes_expanded\n",
    "    num_nodes_expanded = 0\n",
    "    global max_depth\n",
    "    max_depth = 0\n",
    "    global max_frontier\n",
    "    max_frontier = 0\n",
    "    global max_memory\n",
    "    max_memory = 0\n",
    "    \n",
    "    #initialize root node to starting pos\n",
    "    start = mh.find_pos(maze, what = \"S\")\n",
    "    goal = mh.find_pos(maze, what = \"G\")\n",
    "    hn = get_manhattan(start, goal)\n",
    "    root = Node(pos = start, parent = None, action = None, cost = 0, h = hn)\n",
    "    q = [root]\n",
    "    reached = []\n",
    "    # iterate through the queue of nodes while it still contains elements\n",
    "    while(q):\n",
    "        # get max depth of frontier\n",
    "        if(len(q)>max_frontier):\n",
    "            max_frontier = len(q)\n",
    "            \n",
    "        # lambda operation gets the tile with the smallest (heuristic + path cost) value\n",
    "        front = min(q, key = lambda node: (node.h+node.cost))\n",
    "        q.remove(front)\n",
    "        \n",
    "        # get max depth of tree\n",
    "        if(front.cost>max_depth):\n",
    "            max_depth = front.cost\n",
    "            \n",
    "        #get the state of the current element\n",
    "        state = mh.look(maze, front.pos)   \n",
    "\n",
    "        # if goal is found then highlight the final path on the maze and return the path\n",
    "        if(state == \"G\"):\n",
    "            return get_final_path(front, maze).cost, num_nodes_expanded, max_depth, max_memory, max_frontier\n",
    "        \n",
    "        # otherwise keep exploring\n",
    "        expand(maze, front, q, reached, goal) "
   ]
  },
  {
   "cell_type": "code",
   "execution_count": null,
   "metadata": {
    "tags": []
   },
   "outputs": [],
   "source": []
  },
  {
   "cell_type": "markdown",
   "metadata": {},
   "source": [
    "Are your implementations complete and optimal? What is the time and space complexity?"
   ]
  },
  {
   "cell_type": "code",
   "execution_count": 12,
   "metadata": {},
   "outputs": [],
   "source": [
    "# Discussion"
   ]
  },
  {
   "cell_type": "markdown",
   "metadata": {},
   "source": [
    "## Task 4: Comparison and discussion [20 Points] \n",
    "\n",
    "Run experiments to compare the implemented algorithms.\n",
    "\n",
    "How to deal with issues:\n",
    "\n",
    "* Your implementation returns unexpected results: Try to debug and fix the code. Visualizing the maze, the current path and the frontier after every step is very helpful. If the code still does not work, then mark the result with an asterisk (*) and describe the issue below the table.\n",
    "\n",
    "* Your implementation cannot consistently solve a specific maze and ends up in an infinite loop:\n",
    "    Debug. If it is a shortcoming of the algorithm/implementation, then put \"N/A*\" in the results table and describe why this is happening."
   ]
  },
  {
   "cell_type": "code",
   "execution_count": 13,
   "metadata": {},
   "outputs": [],
   "source": [
    "# Add code\n",
    "import numpy as np  \n",
    "import pandas as pd\n",
    "from IPython.display import Markdown\n",
    "\n",
    "def get_results(maze_name):\n",
    "    \n",
    "    # Change to true to see the final mazes\n",
    "    verbose = False\n",
    "    df = pd.DataFrame(columns=('path cost', 'nodes expanded', 'max tree depth', 'max # nodes in memory', 'max frontier size'))\n",
    "    bfs_maze = get_maze(maze_name)\n",
    "    path_cost, num_expanded, depth, memory, frontier = BFS(bfs_maze)\n",
    "    df.loc['BFS'] = [path_cost, num_expanded, depth, 0, frontier]\n",
    "    if verbose:\n",
    "        print(\"BFS:\")\n",
    "        print(\"Path cost:\", path_cost, \"| Total expanded nodes:\", num_expanded, \"| Max depth:\", depth, \"| Max frontier size:\", frontier)\n",
    "        mh.show_maze(bfs_maze)\n",
    "    \n",
    "    dfs_maze = get_maze(maze_name)                 \n",
    "    path_cost, num_expanded, depth, memory, frontier = DFS(dfs_maze)\n",
    "    df.loc['DFS'] = [path_cost, num_expanded, depth, 0, frontier]\n",
    "    if verbose:\n",
    "        print(\"DFS: \")\n",
    "        print(\"Path cost:\", path_cost, \"| Total expanded nodes:\", num_expanded, \"| Max depth:\", depth, \"| Max frontier size:\", frontier)\n",
    "        mh.show_maze(dfs_maze)\n",
    "    \n",
    "    best_first_maze = get_maze(maze_name)                 \n",
    "    path_cost, num_expanded, depth, memory, frontier = best_first_search(best_first_maze)\n",
    "    df.loc['Best First'] = [path_cost, num_expanded, depth, 0, frontier]\n",
    "    if verbose:\n",
    "        print(\"Best First: \")\n",
    "        print(\"Path cost:\", path_cost, \"| Total expanded nodes:\", num_expanded, \"| Max depth:\", depth, \"| Max frontier size:\", frontier)\n",
    "        mh.show_maze(best_first_maze)\n",
    "    \n",
    "    astar_maze = get_maze(maze_name)\n",
    "    path_cost, num_expanded, depth, memory, frontier = a_star(astar_maze)\n",
    "    df.loc['A*'] = [path_cost, num_expanded, depth, 0, frontier]\n",
    "    if verbose:\n",
    "        print(\"A-Star: \")\n",
    "        print(\"Path cost:\", path_cost, \"| Total expanded nodes:\", num_expanded, \"| Max depth:\", depth, \"| Max frontier size:\", frontier)\n",
    "        mh.show_maze(astar_maze)\n",
    "    \n",
    "    display(Markdown(\"__\"+maze_name[0:-4]+\"__\"))\n",
    "    display(df)\n",
    "    return df\n"
   ]
  },
  {
   "cell_type": "code",
   "execution_count": 14,
   "metadata": {},
   "outputs": [
    {
     "data": {
      "text/markdown": [
       "__small_maze__"
      ],
      "text/plain": [
       "<IPython.core.display.Markdown object>"
      ]
     },
     "metadata": {},
     "output_type": "display_data"
    },
    {
     "data": {
      "text/html": [
       "<div>\n",
       "<style scoped>\n",
       "    .dataframe tbody tr th:only-of-type {\n",
       "        vertical-align: middle;\n",
       "    }\n",
       "\n",
       "    .dataframe tbody tr th {\n",
       "        vertical-align: top;\n",
       "    }\n",
       "\n",
       "    .dataframe thead th {\n",
       "        text-align: right;\n",
       "    }\n",
       "</style>\n",
       "<table border=\"1\" class=\"dataframe\">\n",
       "  <thead>\n",
       "    <tr style=\"text-align: right;\">\n",
       "      <th></th>\n",
       "      <th>path cost</th>\n",
       "      <th>nodes expanded</th>\n",
       "      <th>max tree depth</th>\n",
       "      <th>max # nodes in memory</th>\n",
       "      <th>max frontier size</th>\n",
       "    </tr>\n",
       "  </thead>\n",
       "  <tbody>\n",
       "    <tr>\n",
       "      <th>BFS</th>\n",
       "      <td>19</td>\n",
       "      <td>95</td>\n",
       "      <td>19</td>\n",
       "      <td>0</td>\n",
       "      <td>9</td>\n",
       "    </tr>\n",
       "    <tr>\n",
       "      <th>DFS</th>\n",
       "      <td>29</td>\n",
       "      <td>43</td>\n",
       "      <td>29</td>\n",
       "      <td>0</td>\n",
       "      <td>5</td>\n",
       "    </tr>\n",
       "    <tr>\n",
       "      <th>Best First</th>\n",
       "      <td>29</td>\n",
       "      <td>43</td>\n",
       "      <td>29</td>\n",
       "      <td>0</td>\n",
       "      <td>5</td>\n",
       "    </tr>\n",
       "    <tr>\n",
       "      <th>A*</th>\n",
       "      <td>19</td>\n",
       "      <td>59</td>\n",
       "      <td>19</td>\n",
       "      <td>0</td>\n",
       "      <td>8</td>\n",
       "    </tr>\n",
       "  </tbody>\n",
       "</table>\n",
       "</div>"
      ],
      "text/plain": [
       "            path cost  nodes expanded  max tree depth  max # nodes in memory  \\\n",
       "BFS                19              95              19                      0   \n",
       "DFS                29              43              29                      0   \n",
       "Best First         29              43              29                      0   \n",
       "A*                 19              59              19                      0   \n",
       "\n",
       "            max frontier size  \n",
       "BFS                         9  \n",
       "DFS                         5  \n",
       "Best First                  5  \n",
       "A*                          8  "
      ]
     },
     "metadata": {},
     "output_type": "display_data"
    },
    {
     "data": {
      "text/markdown": [
       "__medium_maze__"
      ],
      "text/plain": [
       "<IPython.core.display.Markdown object>"
      ]
     },
     "metadata": {},
     "output_type": "display_data"
    },
    {
     "data": {
      "text/html": [
       "<div>\n",
       "<style scoped>\n",
       "    .dataframe tbody tr th:only-of-type {\n",
       "        vertical-align: middle;\n",
       "    }\n",
       "\n",
       "    .dataframe tbody tr th {\n",
       "        vertical-align: top;\n",
       "    }\n",
       "\n",
       "    .dataframe thead th {\n",
       "        text-align: right;\n",
       "    }\n",
       "</style>\n",
       "<table border=\"1\" class=\"dataframe\">\n",
       "  <thead>\n",
       "    <tr style=\"text-align: right;\">\n",
       "      <th></th>\n",
       "      <th>path cost</th>\n",
       "      <th>nodes expanded</th>\n",
       "      <th>max tree depth</th>\n",
       "      <th>max # nodes in memory</th>\n",
       "      <th>max frontier size</th>\n",
       "    </tr>\n",
       "  </thead>\n",
       "  <tbody>\n",
       "    <tr>\n",
       "      <th>BFS</th>\n",
       "      <td>68</td>\n",
       "      <td>277</td>\n",
       "      <td>68</td>\n",
       "      <td>0</td>\n",
       "      <td>9</td>\n",
       "    </tr>\n",
       "    <tr>\n",
       "      <th>DFS</th>\n",
       "      <td>152</td>\n",
       "      <td>160</td>\n",
       "      <td>152</td>\n",
       "      <td>0</td>\n",
       "      <td>8</td>\n",
       "    </tr>\n",
       "    <tr>\n",
       "      <th>Best First</th>\n",
       "      <td>74</td>\n",
       "      <td>82</td>\n",
       "      <td>74</td>\n",
       "      <td>0</td>\n",
       "      <td>4</td>\n",
       "    </tr>\n",
       "    <tr>\n",
       "      <th>A*</th>\n",
       "      <td>68</td>\n",
       "      <td>230</td>\n",
       "      <td>68</td>\n",
       "      <td>0</td>\n",
       "      <td>8</td>\n",
       "    </tr>\n",
       "  </tbody>\n",
       "</table>\n",
       "</div>"
      ],
      "text/plain": [
       "            path cost  nodes expanded  max tree depth  max # nodes in memory  \\\n",
       "BFS                68             277              68                      0   \n",
       "DFS               152             160             152                      0   \n",
       "Best First         74              82              74                      0   \n",
       "A*                 68             230              68                      0   \n",
       "\n",
       "            max frontier size  \n",
       "BFS                         9  \n",
       "DFS                         8  \n",
       "Best First                  4  \n",
       "A*                          8  "
      ]
     },
     "metadata": {},
     "output_type": "display_data"
    },
    {
     "data": {
      "text/markdown": [
       "__large_maze__"
      ],
      "text/plain": [
       "<IPython.core.display.Markdown object>"
      ]
     },
     "metadata": {},
     "output_type": "display_data"
    },
    {
     "data": {
      "text/html": [
       "<div>\n",
       "<style scoped>\n",
       "    .dataframe tbody tr th:only-of-type {\n",
       "        vertical-align: middle;\n",
       "    }\n",
       "\n",
       "    .dataframe tbody tr th {\n",
       "        vertical-align: top;\n",
       "    }\n",
       "\n",
       "    .dataframe thead th {\n",
       "        text-align: right;\n",
       "    }\n",
       "</style>\n",
       "<table border=\"1\" class=\"dataframe\">\n",
       "  <thead>\n",
       "    <tr style=\"text-align: right;\">\n",
       "      <th></th>\n",
       "      <th>path cost</th>\n",
       "      <th>nodes expanded</th>\n",
       "      <th>max tree depth</th>\n",
       "      <th>max # nodes in memory</th>\n",
       "      <th>max frontier size</th>\n",
       "    </tr>\n",
       "  </thead>\n",
       "  <tbody>\n",
       "    <tr>\n",
       "      <th>BFS</th>\n",
       "      <td>210</td>\n",
       "      <td>624</td>\n",
       "      <td>210</td>\n",
       "      <td>0</td>\n",
       "      <td>8</td>\n",
       "    </tr>\n",
       "    <tr>\n",
       "      <th>DFS</th>\n",
       "      <td>210</td>\n",
       "      <td>374</td>\n",
       "      <td>214</td>\n",
       "      <td>0</td>\n",
       "      <td>38</td>\n",
       "    </tr>\n",
       "    <tr>\n",
       "      <th>Best First</th>\n",
       "      <td>210</td>\n",
       "      <td>486</td>\n",
       "      <td>210</td>\n",
       "      <td>0</td>\n",
       "      <td>21</td>\n",
       "    </tr>\n",
       "    <tr>\n",
       "      <th>A*</th>\n",
       "      <td>210</td>\n",
       "      <td>556</td>\n",
       "      <td>210</td>\n",
       "      <td>0</td>\n",
       "      <td>12</td>\n",
       "    </tr>\n",
       "  </tbody>\n",
       "</table>\n",
       "</div>"
      ],
      "text/plain": [
       "            path cost  nodes expanded  max tree depth  max # nodes in memory  \\\n",
       "BFS               210             624             210                      0   \n",
       "DFS               210             374             214                      0   \n",
       "Best First        210             486             210                      0   \n",
       "A*                210             556             210                      0   \n",
       "\n",
       "            max frontier size  \n",
       "BFS                         8  \n",
       "DFS                        38  \n",
       "Best First                 21  \n",
       "A*                         12  "
      ]
     },
     "metadata": {},
     "output_type": "display_data"
    },
    {
     "data": {
      "text/markdown": [
       "__open_maze__"
      ],
      "text/plain": [
       "<IPython.core.display.Markdown object>"
      ]
     },
     "metadata": {},
     "output_type": "display_data"
    },
    {
     "data": {
      "text/html": [
       "<div>\n",
       "<style scoped>\n",
       "    .dataframe tbody tr th:only-of-type {\n",
       "        vertical-align: middle;\n",
       "    }\n",
       "\n",
       "    .dataframe tbody tr th {\n",
       "        vertical-align: top;\n",
       "    }\n",
       "\n",
       "    .dataframe thead th {\n",
       "        text-align: right;\n",
       "    }\n",
       "</style>\n",
       "<table border=\"1\" class=\"dataframe\">\n",
       "  <thead>\n",
       "    <tr style=\"text-align: right;\">\n",
       "      <th></th>\n",
       "      <th>path cost</th>\n",
       "      <th>nodes expanded</th>\n",
       "      <th>max tree depth</th>\n",
       "      <th>max # nodes in memory</th>\n",
       "      <th>max frontier size</th>\n",
       "    </tr>\n",
       "  </thead>\n",
       "  <tbody>\n",
       "    <tr>\n",
       "      <th>BFS</th>\n",
       "      <td>54</td>\n",
       "      <td>1261</td>\n",
       "      <td>54</td>\n",
       "      <td>0</td>\n",
       "      <td>47</td>\n",
       "    </tr>\n",
       "    <tr>\n",
       "      <th>DFS</th>\n",
       "      <td>54</td>\n",
       "      <td>408</td>\n",
       "      <td>178</td>\n",
       "      <td>0</td>\n",
       "      <td>155</td>\n",
       "    </tr>\n",
       "    <tr>\n",
       "      <th>Best First</th>\n",
       "      <td>68</td>\n",
       "      <td>184</td>\n",
       "      <td>68</td>\n",
       "      <td>0</td>\n",
       "      <td>76</td>\n",
       "    </tr>\n",
       "    <tr>\n",
       "      <th>A*</th>\n",
       "      <td>54</td>\n",
       "      <td>1003</td>\n",
       "      <td>54</td>\n",
       "      <td>0</td>\n",
       "      <td>42</td>\n",
       "    </tr>\n",
       "  </tbody>\n",
       "</table>\n",
       "</div>"
      ],
      "text/plain": [
       "            path cost  nodes expanded  max tree depth  max # nodes in memory  \\\n",
       "BFS                54            1261              54                      0   \n",
       "DFS                54             408             178                      0   \n",
       "Best First         68             184              68                      0   \n",
       "A*                 54            1003              54                      0   \n",
       "\n",
       "            max frontier size  \n",
       "BFS                        47  \n",
       "DFS                       155  \n",
       "Best First                 76  \n",
       "A*                         42  "
      ]
     },
     "metadata": {},
     "output_type": "display_data"
    },
    {
     "data": {
      "text/markdown": [
       "__wall_maze__"
      ],
      "text/plain": [
       "<IPython.core.display.Markdown object>"
      ]
     },
     "metadata": {},
     "output_type": "display_data"
    },
    {
     "data": {
      "text/html": [
       "<div>\n",
       "<style scoped>\n",
       "    .dataframe tbody tr th:only-of-type {\n",
       "        vertical-align: middle;\n",
       "    }\n",
       "\n",
       "    .dataframe tbody tr th {\n",
       "        vertical-align: top;\n",
       "    }\n",
       "\n",
       "    .dataframe thead th {\n",
       "        text-align: right;\n",
       "    }\n",
       "</style>\n",
       "<table border=\"1\" class=\"dataframe\">\n",
       "  <thead>\n",
       "    <tr style=\"text-align: right;\">\n",
       "      <th></th>\n",
       "      <th>path cost</th>\n",
       "      <th>nodes expanded</th>\n",
       "      <th>max tree depth</th>\n",
       "      <th>max # nodes in memory</th>\n",
       "      <th>max frontier size</th>\n",
       "    </tr>\n",
       "  </thead>\n",
       "  <tbody>\n",
       "    <tr>\n",
       "      <th>BFS</th>\n",
       "      <td>14</td>\n",
       "      <td>153</td>\n",
       "      <td>14</td>\n",
       "      <td>0</td>\n",
       "      <td>18</td>\n",
       "    </tr>\n",
       "    <tr>\n",
       "      <th>DFS</th>\n",
       "      <td>64</td>\n",
       "      <td>146</td>\n",
       "      <td>72</td>\n",
       "      <td>0</td>\n",
       "      <td>59</td>\n",
       "    </tr>\n",
       "    <tr>\n",
       "      <th>Best First</th>\n",
       "      <td>14</td>\n",
       "      <td>43</td>\n",
       "      <td>14</td>\n",
       "      <td>0</td>\n",
       "      <td>30</td>\n",
       "    </tr>\n",
       "    <tr>\n",
       "      <th>A*</th>\n",
       "      <td>14</td>\n",
       "      <td>120</td>\n",
       "      <td>14</td>\n",
       "      <td>0</td>\n",
       "      <td>33</td>\n",
       "    </tr>\n",
       "  </tbody>\n",
       "</table>\n",
       "</div>"
      ],
      "text/plain": [
       "            path cost  nodes expanded  max tree depth  max # nodes in memory  \\\n",
       "BFS                14             153              14                      0   \n",
       "DFS                64             146              72                      0   \n",
       "Best First         14              43              14                      0   \n",
       "A*                 14             120              14                      0   \n",
       "\n",
       "            max frontier size  \n",
       "BFS                        18  \n",
       "DFS                        59  \n",
       "Best First                 30  \n",
       "A*                         33  "
      ]
     },
     "metadata": {},
     "output_type": "display_data"
    },
    {
     "data": {
      "text/markdown": [
       "__loops_maze__"
      ],
      "text/plain": [
       "<IPython.core.display.Markdown object>"
      ]
     },
     "metadata": {},
     "output_type": "display_data"
    },
    {
     "data": {
      "text/html": [
       "<div>\n",
       "<style scoped>\n",
       "    .dataframe tbody tr th:only-of-type {\n",
       "        vertical-align: middle;\n",
       "    }\n",
       "\n",
       "    .dataframe tbody tr th {\n",
       "        vertical-align: top;\n",
       "    }\n",
       "\n",
       "    .dataframe thead th {\n",
       "        text-align: right;\n",
       "    }\n",
       "</style>\n",
       "<table border=\"1\" class=\"dataframe\">\n",
       "  <thead>\n",
       "    <tr style=\"text-align: right;\">\n",
       "      <th></th>\n",
       "      <th>path cost</th>\n",
       "      <th>nodes expanded</th>\n",
       "      <th>max tree depth</th>\n",
       "      <th>max # nodes in memory</th>\n",
       "      <th>max frontier size</th>\n",
       "    </tr>\n",
       "  </thead>\n",
       "  <tbody>\n",
       "    <tr>\n",
       "      <th>BFS</th>\n",
       "      <td>23</td>\n",
       "      <td>93</td>\n",
       "      <td>23</td>\n",
       "      <td>0</td>\n",
       "      <td>12</td>\n",
       "    </tr>\n",
       "    <tr>\n",
       "      <th>DFS</th>\n",
       "      <td>27</td>\n",
       "      <td>41</td>\n",
       "      <td>27</td>\n",
       "      <td>0</td>\n",
       "      <td>12</td>\n",
       "    </tr>\n",
       "    <tr>\n",
       "      <th>Best First</th>\n",
       "      <td>23</td>\n",
       "      <td>74</td>\n",
       "      <td>23</td>\n",
       "      <td>0</td>\n",
       "      <td>11</td>\n",
       "    </tr>\n",
       "    <tr>\n",
       "      <th>A*</th>\n",
       "      <td>23</td>\n",
       "      <td>81</td>\n",
       "      <td>23</td>\n",
       "      <td>0</td>\n",
       "      <td>10</td>\n",
       "    </tr>\n",
       "  </tbody>\n",
       "</table>\n",
       "</div>"
      ],
      "text/plain": [
       "            path cost  nodes expanded  max tree depth  max # nodes in memory  \\\n",
       "BFS                23              93              23                      0   \n",
       "DFS                27              41              27                      0   \n",
       "Best First         23              74              23                      0   \n",
       "A*                 23              81              23                      0   \n",
       "\n",
       "            max frontier size  \n",
       "BFS                        12  \n",
       "DFS                        12  \n",
       "Best First                 11  \n",
       "A*                         10  "
      ]
     },
     "metadata": {},
     "output_type": "display_data"
    },
    {
     "data": {
      "text/markdown": [
       "__empty_maze__"
      ],
      "text/plain": [
       "<IPython.core.display.Markdown object>"
      ]
     },
     "metadata": {},
     "output_type": "display_data"
    },
    {
     "data": {
      "text/html": [
       "<div>\n",
       "<style scoped>\n",
       "    .dataframe tbody tr th:only-of-type {\n",
       "        vertical-align: middle;\n",
       "    }\n",
       "\n",
       "    .dataframe tbody tr th {\n",
       "        vertical-align: top;\n",
       "    }\n",
       "\n",
       "    .dataframe thead th {\n",
       "        text-align: right;\n",
       "    }\n",
       "</style>\n",
       "<table border=\"1\" class=\"dataframe\">\n",
       "  <thead>\n",
       "    <tr style=\"text-align: right;\">\n",
       "      <th></th>\n",
       "      <th>path cost</th>\n",
       "      <th>nodes expanded</th>\n",
       "      <th>max tree depth</th>\n",
       "      <th>max # nodes in memory</th>\n",
       "      <th>max frontier size</th>\n",
       "    </tr>\n",
       "  </thead>\n",
       "  <tbody>\n",
       "    <tr>\n",
       "      <th>BFS</th>\n",
       "      <td>14</td>\n",
       "      <td>175</td>\n",
       "      <td>14</td>\n",
       "      <td>0</td>\n",
       "      <td>22</td>\n",
       "    </tr>\n",
       "    <tr>\n",
       "      <th>DFS</th>\n",
       "      <td>80</td>\n",
       "      <td>152</td>\n",
       "      <td>80</td>\n",
       "      <td>0</td>\n",
       "      <td>73</td>\n",
       "    </tr>\n",
       "    <tr>\n",
       "      <th>Best First</th>\n",
       "      <td>14</td>\n",
       "      <td>43</td>\n",
       "      <td>14</td>\n",
       "      <td>0</td>\n",
       "      <td>30</td>\n",
       "    </tr>\n",
       "    <tr>\n",
       "      <th>A*</th>\n",
       "      <td>14</td>\n",
       "      <td>142</td>\n",
       "      <td>14</td>\n",
       "      <td>0</td>\n",
       "      <td>33</td>\n",
       "    </tr>\n",
       "  </tbody>\n",
       "</table>\n",
       "</div>"
      ],
      "text/plain": [
       "            path cost  nodes expanded  max tree depth  max # nodes in memory  \\\n",
       "BFS                14             175              14                      0   \n",
       "DFS                80             152              80                      0   \n",
       "Best First         14              43              14                      0   \n",
       "A*                 14             142              14                      0   \n",
       "\n",
       "            max frontier size  \n",
       "BFS                        22  \n",
       "DFS                        73  \n",
       "Best First                 30  \n",
       "A*                         33  "
      ]
     },
     "metadata": {},
     "output_type": "display_data"
    },
    {
     "data": {
      "text/markdown": [
       "__empty_2_maze__"
      ],
      "text/plain": [
       "<IPython.core.display.Markdown object>"
      ]
     },
     "metadata": {},
     "output_type": "display_data"
    },
    {
     "data": {
      "text/html": [
       "<div>\n",
       "<style scoped>\n",
       "    .dataframe tbody tr th:only-of-type {\n",
       "        vertical-align: middle;\n",
       "    }\n",
       "\n",
       "    .dataframe tbody tr th {\n",
       "        vertical-align: top;\n",
       "    }\n",
       "\n",
       "    .dataframe thead th {\n",
       "        text-align: right;\n",
       "    }\n",
       "</style>\n",
       "<table border=\"1\" class=\"dataframe\">\n",
       "  <thead>\n",
       "    <tr style=\"text-align: right;\">\n",
       "      <th></th>\n",
       "      <th>path cost</th>\n",
       "      <th>nodes expanded</th>\n",
       "      <th>max tree depth</th>\n",
       "      <th>max # nodes in memory</th>\n",
       "      <th>max frontier size</th>\n",
       "    </tr>\n",
       "  </thead>\n",
       "  <tbody>\n",
       "    <tr>\n",
       "      <th>BFS</th>\n",
       "      <td>14</td>\n",
       "      <td>175</td>\n",
       "      <td>14</td>\n",
       "      <td>0</td>\n",
       "      <td>21</td>\n",
       "    </tr>\n",
       "    <tr>\n",
       "      <th>DFS</th>\n",
       "      <td>34</td>\n",
       "      <td>75</td>\n",
       "      <td>34</td>\n",
       "      <td>0</td>\n",
       "      <td>42</td>\n",
       "    </tr>\n",
       "    <tr>\n",
       "      <th>Best First</th>\n",
       "      <td>14</td>\n",
       "      <td>43</td>\n",
       "      <td>14</td>\n",
       "      <td>0</td>\n",
       "      <td>30</td>\n",
       "    </tr>\n",
       "    <tr>\n",
       "      <th>A*</th>\n",
       "      <td>14</td>\n",
       "      <td>142</td>\n",
       "      <td>14</td>\n",
       "      <td>0</td>\n",
       "      <td>33</td>\n",
       "    </tr>\n",
       "  </tbody>\n",
       "</table>\n",
       "</div>"
      ],
      "text/plain": [
       "            path cost  nodes expanded  max tree depth  max # nodes in memory  \\\n",
       "BFS                14             175              14                      0   \n",
       "DFS                34              75              34                      0   \n",
       "Best First         14              43              14                      0   \n",
       "A*                 14             142              14                      0   \n",
       "\n",
       "            max frontier size  \n",
       "BFS                        21  \n",
       "DFS                        42  \n",
       "Best First                 30  \n",
       "A*                         33  "
      ]
     },
     "metadata": {},
     "output_type": "display_data"
    }
   ],
   "source": [
    "results = []\n",
    "results.append(get_results('small_maze.txt'))\n",
    "results.append(get_results('medium_maze.txt'))\n",
    "results.append(get_results('large_maze.txt'))\n",
    "results.append(get_results('open_maze.txt'))\n",
    "results.append(get_results('wall_maze.txt'))\n",
    "results.append(get_results('loops_maze.txt'))\n",
    "results.append(get_results('empty_maze.txt'))\n",
    "results.append(get_results('empty_2_maze.txt'))\n",
    "\n"
   ]
  },
  {
   "cell_type": "markdown",
   "metadata": {},
   "source": [
    "Present the results as using charts (see [Python Code Examples/charts and tables](../Python_Code_Examples/charts_and_tables.ipynb)). "
   ]
  },
  {
   "cell_type": "code",
   "execution_count": 15,
   "metadata": {},
   "outputs": [
    {
     "data": {
      "text/markdown": [
       "__Path Cost__"
      ],
      "text/plain": [
       "<IPython.core.display.Markdown object>"
      ]
     },
     "metadata": {},
     "output_type": "display_data"
    },
    {
     "data": {
      "image/png": "[encoded data removed]",
      "text/plain": [
       "<Figure size 432x288 with 1 Axes>"
      ]
     },
     "metadata": {
      "image/png": {
       "height": 248,
       "width": 382
      },
      "needs_background": "light"
     },
     "output_type": "display_data"
    },
    {
     "data": {
      "image/png": "[encoded data removed]",
      "text/plain": [
       "<Figure size 432x288 with 1 Axes>"
      ]
     },
     "metadata": {
      "image/png": {
       "height": 248,
       "width": 388
      },
      "needs_background": "light"
     },
     "output_type": "display_data"
    },
    {
     "data": {
      "image/png": "[encoded data removed]",
      "text/plain": [
       "<Figure size 432x288 with 1 Axes>"
      ]
     },
     "metadata": {
      "image/png": {
       "height": 248,
       "width": 388
      },
      "needs_background": "light"
     },
     "output_type": "display_data"
    }
   ],
   "source": [
    "import matplotlib.pyplot as plt\n",
    "display(Markdown(\"__Path Cost__\"))\n",
    "plt.bar(results[0]['path cost'].keys(), results[0]['path cost'])\n",
    "plt.ylabel(\"Small Maze:\")\n",
    "plt.show()\n",
    "plt.bar(results[1]['path cost'].keys(), results[1]['path cost'])\n",
    "plt.ylabel(\"Medium Maze:\")\n",
    "plt.show()\n",
    "plt.bar(results[2]['path cost'].keys(), results[2]['path cost'])\n",
    "plt.ylabel(\"Large Maze:\")\n",
    "plt.show()"
   ]
  },
  {
   "cell_type": "code",
   "execution_count": 16,
   "metadata": {},
   "outputs": [
    {
     "data": {
      "text/markdown": [
       "__Nodes expanded__"
      ],
      "text/plain": [
       "<IPython.core.display.Markdown object>"
      ]
     },
     "metadata": {},
     "output_type": "display_data"
    },
    {
     "data": {
      "image/png": "[encoded data removed]",
      "text/plain": [
       "<Figure size 432x288 with 1 Axes>"
      ]
     },
     "metadata": {
      "image/png": {
       "height": 248,
       "width": 382
      },
      "needs_background": "light"
     },
     "output_type": "display_data"
    },
    {
     "data": {
      "image/png": "[encoded data removed]",
      "text/plain": [
       "<Figure size 432x288 with 1 Axes>"
      ]
     },
     "metadata": {
      "image/png": {
       "height": 248,
       "width": 388
      },
      "needs_background": "light"
     },
     "output_type": "display_data"
    },
    {
     "data": {
      "image/png": "[encoded data removed]",
      "text/plain": [
       "<Figure size 432x288 with 1 Axes>"
      ]
     },
     "metadata": {
      "image/png": {
       "height": 248,
       "width": 388
      },
      "needs_background": "light"
     },
     "output_type": "display_data"
    }
   ],
   "source": [
    "display(Markdown(\"__Nodes expanded__\"))\n",
    "plt.bar(results[0]['nodes expanded'].keys(), results[0]['nodes expanded'])\n",
    "plt.ylabel(\"Small Maze:\")\n",
    "plt.show()\n",
    "plt.bar(results[1]['nodes expanded'].keys(), results[1]['nodes expanded'])\n",
    "plt.ylabel(\"Medium Maze:\")\n",
    "plt.show()\n",
    "plt.bar(results[2]['nodes expanded'].keys(), results[2]['nodes expanded'])\n",
    "plt.ylabel(\"Large Maze:\")\n",
    "plt.show()"
   ]
  },
  {
   "cell_type": "markdown",
   "metadata": {},
   "source": [
    "Discuss the most important lessons you have learned from implementing the different search strategies. "
   ]
  },
  {
   "cell_type": "markdown",
   "metadata": {},
   "source": [
    "The most important lessons I learned were:\n",
    "* The way that you implement the algorithms will efect the performance in different situations. For example, in my implementations my algorithms always expanded the frontier in the order: north, east, south, west. Because of this, in the depth first algorithms the path length is extremely long when the goal is north east as it tries to move south and west first. On the other hand, when the goal is south west of the start, it tends to perform better. To average this out, we could chose a random direction to expand in.\n",
    "* BFS and A* will always find the shortest path, but A* does it slightly quicker. Best first expanded the least nodes in most of the mazes, but it doesn't usually find the shortest path. \n",
    "* All of these algorithms are nearly identical, the only difference is which space you decide to explore next. \n",
    "\n",
    "    "
   ]
  },
  {
   "cell_type": "markdown",
   "metadata": {},
   "source": [
    "## Graduate student advanced task: Multiple goals [10 Points]\n",
    "\n",
    "__Undergraduate students:__ This is a bonus task you can attempt if you like [+5 Bonus Points].\n",
    "\n",
    "Create a few mazes with multiple goals by adding one or two more goals to the medium size maze.\n",
    "Solve the maze with your implementations for DFS, BFS, and implement in addition IDS (iterative deepening search using DFS). \n",
    "\n",
    "Run experiments to show which implementations find the optimal solution and which do not. Discuss why that is the case."
   ]
  },
  {
   "cell_type": "code",
   "execution_count": 17,
   "metadata": {},
   "outputs": [],
   "source": [
    "# Your code/answer goes here"
   ]
  },
  {
   "cell_type": "markdown",
   "metadata": {},
   "source": [
    "## More advanced tasks to think about\n",
    "\n",
    "Instead of defining each square as a state, use only intersections as states. Now the storage requirement is reduced, but the path length between two intersections can be different. If we use total path length measured as the number of squares as path cost, how can we make sure that BFS and iterative deepening search is optimal? Change the code to do so."
   ]
  },
  {
   "cell_type": "code",
   "execution_count": 18,
   "metadata": {},
   "outputs": [],
   "source": [
    "# Your code/answer goes here"
   ]
  },
  {
   "cell_type": "markdown",
   "metadata": {},
   "source": [
    "Modify your A* search to add weights (see text book) and explore how different weights influence the result."
   ]
  },
  {
   "cell_type": "code",
   "execution_count": 19,
   "metadata": {},
   "outputs": [],
   "source": [
    "# Your code/answer goes here"
   ]
  },
  {
   "cell_type": "markdown",
   "metadata": {},
   "source": [
    "What happens if the agent does not know the layout of the maze in advance (i.e., faces an unkown, only partially observable environment)? How does the environment look then (PEAS description)? How would you implement a rational agent to solve the maze? What if the agent still has a GPS device to tell the distance to the goal?"
   ]
  },
  {
   "cell_type": "code",
   "execution_count": 20,
   "metadata": {},
   "outputs": [],
   "source": [
    "# Your code/answer goes here"
   ]
  },
  {
   "cell_type": "code",
   "execution_count": null,
   "metadata": {},
   "outputs": [],
   "source": []
  },
  {
   "cell_type": "code",
   "execution_count": null,
   "metadata": {},
   "outputs": [],
   "source": []
  }
 ],
 "metadata": {
  "kernelspec": {
   "display_name": "Python 3 (ipykernel)",
   "language": "python",
   "name": "python3"
  },
  "language_info": {
   "codemirror_mode": {
    "name": "ipython",
    "version": 3
   },
   "file_extension": ".py",
   "mimetype": "text/x-python",
   "name": "python",
   "nbconvert_exporter": "python",
   "pygments_lexer": "ipython3",
   "version": "3.9.7"
  }
 },
 "nbformat": 4,
 "nbformat_minor": 4
}
