{
 "cells": [
  {
   "cell_type": "markdown",
   "metadata": {},
   "source": [
    "# Search: Solving a Maze Using a Goal-based Agent\n",
    "\n",
    "## Instructions\n",
    "\n",
    "Total Points: Undergrads 100 / Graduate students 110\n",
    "\n",
    "Complete this notebook. Use the provided notebook cells and insert additional code and markdown cells as needed. Submit the completely rendered notebook as a PDF file. \n",
    "\n",
    "\n",
    "## Introduction\n",
    "\n",
    "The agent has a map of the maze it is in and the environment is assumed to be **deterministic, discrete, and known.** The agent must use the map to plan a path through the maze from the starting location $S$ to the goal location $G$.  This is a planing exercise for a goal-based agent, so you do not need to implement an environment, just use the map to search for a path. Once the plan is made, the agent in a deterministic environment (i.e., the transition function is deterministic with the outcome of each state/action pair fixed and no randomness) can just follow the path and does not need to care about the percepts.\n",
    "This is also called an **[open-loop system](https://en.wikipedia.org/wiki/Open-loop_controller).**\n",
    "The execution phase is trivial and we do not implement it in this exercise.\n",
    "\n",
    "Tree search algorithm implementations that you find online and used in general algorithms courses have often a different aim. These algorithms assume that you already have a tree in memory. We are interested in dynamically creating a search tree with the aim of finding a good/the best path from the root noteto the goal state. Follow the pseudo code presented in the text book (and replicated in the slides) closely. Ideally, we would like to search only a small part of the maze, i.e., create a search tree with as few nodes as possible. \n",
    "\n",
    "Several mazes for this exercise are stored as text files. Here is the small example maze:"
   ]
  },
  {
   "cell_type": "code",
   "execution_count": 1,
   "metadata": {},
   "outputs": [
    {
     "name": "stdout",
     "output_type": "stream",
     "text": [
      "XXXXXXXXXXXXXXXXXXXXXXXXXXXXXXXXXXXX\n",
      "X                                 SX\n",
      "X XXXXXXXXXXXXXXXXXXXXXXX XXXXXXXX X\n",
      "X XX   X   X      XXXXXXX   XX     X\n",
      "X XX X X X X XXXX XXXXXXXXX XX XXXXX\n",
      "X XX X X X X             XX XX     X\n",
      "X XX X X X X X XXXX  XXX    XXXXXX X\n",
      "X X  X X X   X    XX XXXXXXXX      X\n",
      "X XX X X XXXXXXXX XX        XX XXXXX\n",
      "X XX X   XX       XXXXXXXXX XX     X\n",
      "X    XXXXXX XXXXXXX      XX XXXXXX X\n",
      "XXXXXX      X       XXXX XX X      X\n",
      "X      XXXXXX XXXXX X    XX XX XXXXX\n",
      "X XXXXXX      X       XXXXX XX     X\n",
      "X        XXXXXX XXXXXXXXXXX XX  XX X\n",
      "XXXXXXXXXX                  XXXXXX X\n",
      "XG         XXXXXXXXXXXXXXXX        X\n",
      "XXXXXXXXXXXXXXXXXXXXXXXXXXXXXXXXXXXX\n",
      "\n",
      "\n"
     ]
    }
   ],
   "source": [
    "with open(\"medium_maze.txt\", \"r\") as f:\n",
    "    maze_str = f.read()\n",
    "print(maze_str)"
   ]
  },
  {
   "cell_type": "markdown",
   "metadata": {},
   "source": [
    "__Note:__ The mazes above contains cycles and therefore the state space may not form proper trees unless cycles are prevented. Therfore, you will need to deal with cycle detection in your code."
   ]
  },
  {
   "cell_type": "markdown",
   "metadata": {},
   "source": [
    "## Parsing and pretty printing the maze\n",
    "\n",
    "The maze can also be displayed in color using code in the module [maze_helper.py](maze_helper.py). The code parses the string representing the maze and converts it into a `numpy` 2d array which you can use in your implementation. Position are represented as a 2-tuple of the form `(row, col)`. "
   ]
  },
  {
   "cell_type": "code",
   "execution_count": 2,
   "metadata": {
    "tags": []
   },
   "outputs": [
    {
     "name": "stdout",
     "output_type": "stream",
     "text": [
      "Position(0,0): X\n",
      "Position(8,1):  \n"
     ]
    }
   ],
   "source": [
    "import maze_helper as mh\n",
    "\n",
    "ex_maze = mh.parse_maze(maze_str)\n",
    "\n",
    "# look at a position in the maze by subsetting the 2d array\n",
    "print(\"Position(0,0):\", ex_maze[0, 0])\n",
    "\n",
    "# there is also a helper function called `look(maze, pos)` available\n",
    "# which uses a 2-tuple for the position.\n",
    "print(\"Position(8,1):\", mh.look(ex_maze, (8, 1)))"
   ]
  },
  {
   "cell_type": "markdown",
   "metadata": {},
   "source": [
    "A helper function to visualize the maze is also available."
   ]
  },
  {
   "cell_type": "code",
   "execution_count": 3,
   "metadata": {},
   "outputs": [
    {
     "data": {
      "image/png": "[encoded data removed]",
      "text/plain": [
       "<Figure size 432x288 with 1 Axes>"
      ]
     },
     "metadata": {
      "image/png": {
       "height": 198,
       "width": 380
      },
      "needs_background": "light"
     },
     "output_type": "display_data"
    }
   ],
   "source": [
    "%matplotlib inline\n",
    "%config InlineBackend.figure_format = 'retina'\n",
    "# use higher resolution images in notebook\n",
    "\n",
    "mh.show_maze(ex_maze)"
   ]
  },
  {
   "cell_type": "markdown",
   "metadata": {},
   "source": [
    "Find the position of the start and the goal using the helper function `find_pos()`"
   ]
  },
  {
   "cell_type": "code",
   "execution_count": 4,
   "metadata": {},
   "outputs": [
    {
     "name": "stdout",
     "output_type": "stream",
     "text": [
      "Start location: (1, 34)\n",
      "Goal location: (16, 1)\n"
     ]
    }
   ],
   "source": [
    "print(\"Start location:\", mh.find_pos(ex_maze, what = \"S\"))\n",
    "print(\"Goal location:\", mh.find_pos(ex_maze, what = \"G\"))"
   ]
  },
  {
   "cell_type": "markdown",
   "metadata": {},
   "source": [
    "Helper function documentation."
   ]
  },
  {
   "cell_type": "code",
   "execution_count": 5,
   "metadata": {},
   "outputs": [
    {
     "name": "stdout",
     "output_type": "stream",
     "text": [
      "Help on module maze_helper:\n",
      "\n",
      "NAME\n",
      "    maze_helper\n",
      "\n",
      "DESCRIPTION\n",
      "    Code for the Maze Assignment by Michael Hahsler\n",
      "    Usage: \n",
      "        import maze_helper as mh\n",
      "        mh.show_some_mazes()\n",
      "\n",
      "FUNCTIONS\n",
      "    find_pos(maze, what='S')\n",
      "        Find start/goal in a maze and returns the first one. \n",
      "        Caution: there is no error checking!\n",
      "        \n",
      "        Parameters:\n",
      "        maze: a array with characters prodced by parse_maze()\n",
      "        what: the letter to be found ('S' for start and 'G' for goal)\n",
      "        \n",
      "        Returns:\n",
      "        a tupple (x, y) for the found position.\n",
      "    \n",
      "    look(maze, pos)\n",
      "        Look at the label of a square with the position as an array of the form (x, y).\n",
      "    \n",
      "    parse_maze(maze_str)\n",
      "        Convert a maze as a string into a 2d numpy array\n",
      "    \n",
      "    show_maze(maze, fontsize=10)\n",
      "        Display a (parsed) maze as an image.\n",
      "    \n",
      "    welcome()\n",
      "        Welcome message.\n",
      "\n",
      "FILE\n",
      "    /home/jovyan/CS7320-AI/Search/maze_helper.py\n",
      "\n",
      "\n"
     ]
    }
   ],
   "source": [
    "help(mh)"
   ]
  },
  {
   "cell_type": "markdown",
   "metadata": {},
   "source": [
    "## Tree structure\n",
    "\n",
    "Here is an implementation of the basic node structure for the search algorithms (see Fig 3.7 on page 73). I have added a method that extracts the path from the root node to the current node. It can be used to get the path when the search is completed."
   ]
  },
  {
   "cell_type": "code",
   "execution_count": 6,
   "metadata": {},
   "outputs": [],
   "source": [
    "class Node:\n",
    "    def __init__(self, pos, parent, action, cost, h = 0):\n",
    "        self.pos = tuple(pos)    # the state; positions are (row,col)\n",
    "        self.parent = parent     # reference to parent node. None means root node.\n",
    "        self.action = action     # action used in the transition function (root node has None)\n",
    "        self.cost = cost         # for uniform cost this is the depth. It is also g(n) for A* search\n",
    "        self.h = h               # for greedy first and A* search \n",
    "    def __str__(self):\n",
    "        return f\"Node - pos = {self.pos}; action = {self.action}; cost = {self.cost}\"\n",
    "    \n",
    "    def get_path_from_root(self):\n",
    "        \"\"\"returns nodes on the path from the root to the current node.\"\"\"\n",
    "        node = self\n",
    "        path = [node]\n",
    "    \n",
    "        while not node.parent is None:\n",
    "            node = node.parent\n",
    "            path.append(node)\n",
    "        \n",
    "        path.reverse()\n",
    "        \n",
    "        return(path)"
   ]
  },
  {
   "cell_type": "markdown",
   "metadata": {},
   "source": [
    "If needed, then you can add more fields to the class like the heuristic value $h(n)$ or $f(n)$.\n",
    "\n",
    "Examples for how to create and use a tree and information on memory management can be found [here](../Python_Code_Examples/trees.ipynb)."
   ]
  },
  {
   "cell_type": "markdown",
   "metadata": {},
   "source": [
    "# Tasks\n",
    "\n",
    "The goal is to:\n",
    "\n",
    "1. Implement the following search algorithms for solving different mazes:\n",
    "\n",
    "    - Breadth-first search (BFS)\n",
    "    - Depth-first search (DFS)\n",
    "    - Greedy best-first search (GBFS)\n",
    "    - A* search\n",
    "\n",
    "2. Run each of the above algorithms on the \n",
    "    - [small maze](small_maze.txt), \n",
    "    - [medium maze](medium_maze.txt), \n",
    "    - [large maze](large_maze.txt), \n",
    "    - [open maze](open_maze.txt),\n",
    "    - [wall maze](wall_maze.txt),\n",
    "    - [loops maze](loops_maze.txt),\n",
    "    - [empty maze](empty_maze.txt), and\n",
    "    - [empty 2_maze](empty_2_maze.txt).\n",
    "    \n",
    "3. For each problem instance and each search algorithm, report the following in a table:\n",
    "\n",
    "    - The solution and its path cost\n",
    "    - Total number of nodes expanded\n",
    "    - Maximum tree depth\n",
    "    - Maximum size of the frontier\n",
    "\n",
    "4. Display each solution by marking every maze square (or state) visited and the squares on the final path.\n",
    "\n",
    "## General [10 Points]\n",
    "\n",
    "1. Make sure that you use the latest version of this notebook. Sync your forked repository and pull the latest revision. \n",
    "2. Your implementation can use libraries like math, numpy, scipy, but not libraries that implement inteligent agents or complete search algorithms. Try to keep the code simple! In this course, we want to learn about the algorithms and we often do not need to use object-oriented design.\n",
    "3. You notebook needs to be formated professionally. \n",
    "    - Add additional markdown blocks for your description, comments in the code, add tables and use mathplotlib to produce charts where appropriate\n",
    "    - Do not show debugging output or include an excessive amount of output.\n",
    "    - Check that your PDF file is readable. For example, long lines are cut off in the PDF file. You don't have control over page breaks, so do not worry about these.\n",
    "4. Document your code. Add a short discussion of how your implementation works and your design choices."
   ]
  },
  {
   "cell_type": "markdown",
   "metadata": {},
   "source": [
    "## Task 1: Defining the search problem and determining the problem size [10 Points]\n",
    "\n",
    "Define the components of the search problem:\n",
    "\n",
    "* Initial state\n",
    "* Actions\n",
    "* Transition model\n",
    "* Goal state\n",
    "* Path cost\n",
    "\n",
    "Use verbal descriptions, variables and equations as appropriate. \n",
    "\n",
    "*Note:* You can swich the next block from code to Markdown and use formating."
   ]
  },
  {
   "cell_type": "markdown",
   "metadata": {},
   "source": [
    "# Your answer goes here\n",
    "* Initial state: The initial state of the search problem is the starting position of the maze.\n",
    "* Actions: The possible actions are to move north, east, south, or west (unless there is wall in the way).\n",
    "* Transition model: Once an action is perfomed (moving in a direction) the new state is the new square that the agent has moved to. \n",
    "* Goal state: The goal state is to have the agent in the goal square of the maze.\n",
    "* Path cost: Number of moves to reach goal."
   ]
  },
  {
   "cell_type": "markdown",
   "metadata": {},
   "source": [
    "Give some estimates for the problem size:\n",
    "\n",
    "* $n$: state space size\n",
    "* $d$: depth of the optimal solution\n",
    "* $m$: maximum depth of tree\n",
    "* $b$: maximum branching factor\n",
    "\n",
    "Describe how you would determin these values for a given maze."
   ]
  },
  {
   "cell_type": "markdown",
   "metadata": {},
   "source": [
    "# Your answer goes here\n",
    "* n: the number of squares in the maze (width * height)\n",
    "* d: the depth of the optimal solution depends on the number of walls in the maze, but for an empty maze the optimal solution would just be the manhattan distance from the start to the goal.\n",
    "* m: the maximum depth of the tree could be every square in the maze if the whole maze is explored. \n",
    "* b: the maximum branching factor is 4, one for each possible direction to move."
   ]
  },
  {
   "cell_type": "markdown",
   "metadata": {},
   "source": [
    "## Task 2: Uninformed search: Breadth-first and depth-first [40 Points]\n",
    "\n",
    "Implement these search strategies. Follow the pseudocode in the textbook/slides. You can use the tree structure shown above to extract the final path from your solution.\n",
    "\n",
    "__Notes:__\n",
    "* You can find maze solving implementations online that use the map to store information. While this is an effective idea for this two-dimensional navigation problem, it typically cannot be used for other search problems. Therefore, follow the textbook and only store information in the tree created during search, and use the `reached` and `frontier` data structures.\n",
    "* DSF can be implemented using the BFS tree search algorithm and simply changing the order in which the frontier is expanded (this is equivalent to best-first search with path length as the criterion to expand the next node). However, to take advantage of the significantly smaller memory footprint of DFS, you need to implement DFS in a different way without a `reached` data structure and by releasing the memory for nodes that are not needed anymore. \n",
    "* If DFS does not use a `reached` data structure, then its cycle checking abilities are limited. Remember, that DSF is incomplete if cycles cannot be prevented. You will see in your experiments that open spaces are a problem."
   ]
  },
  {
   "cell_type": "markdown",
   "metadata": {},
   "source": [
    "# Helper functions "
   ]
  },
  {
   "cell_type": "code",
   "execution_count": 7,
   "metadata": {},
   "outputs": [],
   "source": [
    "# Used to check if a space is an available space to move to\n",
    "def is_valid_space(pos, maze):\n",
    "    # Out of bounds check\n",
    "    if(pos[0]<0 or pos[0]>len(maze)-1):\n",
    "        return False\n",
    "    if(pos[1]<0 or pos[1]>len(maze[0])-1):\n",
    "        return False\n",
    "    # Wall check\n",
    "    if(mh.look(maze,pos)==\"X\"):\n",
    "        return False\n",
    "    return True\n",
    "\n",
    "# getting heuristic for greedy searches\n",
    "def get_manhattan(a,b):\n",
    "    return sum(abs(val1-val2) for val1, val2 in zip(a,b))\n",
    "\n",
    "#Expands the frontier of DFS and BFS\n",
    "def expand(maze, front, q, goal = 0):\n",
    "    if(goal==0):\n",
    "        goal = front.pos\n",
    "    pos = front.pos\n",
    "    state = mh.look(maze, pos)\n",
    "    \n",
    "    # if the next space in frontier is empty, explore its valid neighbors (N,E,S,W)\n",
    "    if(state == \" \" or state == \"S\"):\n",
    "        y, x = pos\n",
    "        n = Node(pos = (y - 1, x), parent = front, action = \"N\", cost = 1+front.cost)\n",
    "        if(is_valid_space(n.pos, maze)):\n",
    "            n.h = get_manhattan(a = n.pos, b = goal)\n",
    "            q.append(n)\n",
    "        e = Node(pos = (y, x + 1), parent = front, action = \"E\", cost = 1+front.cost)\n",
    "        if(is_valid_space(e.pos, maze)):\n",
    "            e.h = get_manhattan(a = e.pos, b = goal)\n",
    "            q.append(e)\n",
    "        s = Node(pos = (y + 1, x), parent = front, action = \"S\", cost = 1+front.cost)\n",
    "        if(is_valid_space(s.pos, maze)):\n",
    "            s.h = get_manhattan(a = s.pos, b = goal)\n",
    "            q.append(s)\n",
    "        w = Node(pos = (y, x - 1), parent = front, action = \"W\", cost = 1+front.cost)\n",
    "        if(is_valid_space(w.pos, maze)):\n",
    "            w.h = get_manhattan(a = w.pos, b = goal)\n",
    "            q.append(w)\n",
    "            \n",
    "        # mark the current node as explored\n",
    "        if(not state ==\"S\"):\n",
    "            maze[y,x] = \".\"\n",
    "    \n",
    "def get_final_path(front, maze):\n",
    "    # Get the path to from start to goal\n",
    "    path = front.get_path_from_root()\n",
    "    \n",
    "    # Mark every spot of the path as a path tile unless it is the S or G space\n",
    "    for x in path:\n",
    "        if(not (mh.look(maze, x.pos)==\"S\" or mh.look(maze, x.pos)==\"G\")):\n",
    "            y,x =x.pos\n",
    "            maze[y,x] = \"P\"\n",
    "    return path\n",
    "\n",
    "def get_maze(maze_name):\n",
    "    with open(maze_name, \"r\") as f:\n",
    "        bfs_maze_str = f.read()\n",
    "    return mh.parse_maze(bfs_maze_str) "
   ]
  },
  {
   "cell_type": "markdown",
   "metadata": {
    "tags": []
   },
   "source": [
    "# BFS"
   ]
  },
  {
   "cell_type": "code",
   "execution_count": 8,
   "metadata": {},
   "outputs": [],
   "source": [
    "def BFS(maze):\n",
    "    \n",
    "    #initialize root node to starting pos\n",
    "    start = mh.find_pos(maze, what = \"S\")\n",
    "    root = Node(pos = start, parent = None, action = None, cost = 0)\n",
    "    q = [root]\n",
    "    \n",
    "    # iterate through the queue of nodes while it still contains elements\n",
    "    while(q):\n",
    "        \n",
    "        # get next element in the queue\n",
    "        front = q.pop(0)\n",
    "        \n",
    "        #get the state of the current element\n",
    "        state = mh.look(maze, front.pos)   \n",
    "\n",
    "        # if goal is found then highlight the final path on the maze and return the path\n",
    "        if(state == \"G\"):\n",
    "            return get_final_path(front, maze)\n",
    "        \n",
    "        # otherwise keep exploring\n",
    "        expand(maze, front, q)         "
   ]
  },
  {
   "cell_type": "code",
   "execution_count": null,
   "metadata": {},
   "outputs": [],
   "source": []
  },
  {
   "cell_type": "markdown",
   "metadata": {},
   "source": [
    "# DFS"
   ]
  },
  {
   "cell_type": "code",
   "execution_count": 9,
   "metadata": {},
   "outputs": [],
   "source": [
    "def DFS(maze):\n",
    "    \n",
    "    #initialize root node to starting pos\n",
    "    start = mh.find_pos(maze, what = \"S\")\n",
    "    root = Node(pos = start, parent = None, action = None, cost = 0)\n",
    "    stack = [root]\n",
    "    \n",
    "    # iterate through the stack of nodes while it still contains elements\n",
    "    while(stack):\n",
    "        \n",
    "        # get next element in the stack\n",
    "        front = stack.pop()\n",
    "        \n",
    "        #get the state of the current element\n",
    "        state = mh.look(maze, front.pos) \n",
    "        \n",
    "        # if goal is found then highlight the final path on the maze and return the path\n",
    "        if(state == \"G\"):\n",
    "            return get_final_path(front, maze)\n",
    "        \n",
    "        # otherwise keep exploring \n",
    "        expand(maze, front, stack)"
   ]
  },
  {
   "cell_type": "code",
   "execution_count": null,
   "metadata": {},
   "outputs": [],
   "source": []
  },
  {
   "cell_type": "markdown",
   "metadata": {},
   "source": [
    "How does BFS and DFS deal with loops (cycles)?"
   ]
  },
  {
   "cell_type": "markdown",
   "metadata": {},
   "source": [
    "# Discussion\n",
    "The BFS and DFS are very similar because they both loop through grabbing the next possible space to move to, and then exploring its neighbors.  The difference in the two is that BFS will explore the neighbors by adding them to its frontier, then accessing them with a queue data structure (first in first out). DFS will also explore the neighbors by adding them to its frontier, but DFS accesses them with a stack data structure (first in last out).  "
   ]
  },
  {
   "cell_type": "markdown",
   "metadata": {},
   "source": [
    "Are your implementations complete and optimal? Explain why. What is the time and space complexity of each of **your** implementations?"
   ]
  },
  {
   "cell_type": "markdown",
   "metadata": {},
   "source": [
    "# Discussion\n"
   ]
  },
  {
   "cell_type": "markdown",
   "metadata": {},
   "source": [
    "## Task 3: Informed search: Implement greedy best-first search and A* search  [20 Points]\n",
    "\n",
    "You can use the map to estimate the distance from your current position to the goal using the Manhattan distance (see https://en.wikipedia.org/wiki/Taxicab_geometry) as a heuristic function. Both algorithms are based on Best-First search which requires only a small change from the BFS algorithm you have already implemented (see textbook/slides). \n",
    "\n",
    "# Greedy Best First Search"
   ]
  },
  {
   "cell_type": "code",
   "execution_count": 10,
   "metadata": {},
   "outputs": [],
   "source": [
    "def best_first_search(maze):\n",
    "    \n",
    "    #initialize root node to starting pos\n",
    "    start = mh.find_pos(maze, what = \"S\")\n",
    "    goal = mh.find_pos(maze, what = \"G\")\n",
    "    hn = get_manhattan(start, goal)\n",
    "    root = Node(pos = start, parent = None, action = None, cost = 0, h = hn)\n",
    "    q = [root]\n",
    "    # iterate through the queue of nodes while it still contains elements\n",
    "    while(q):\n",
    "        \n",
    "        # get next element in the queue\n",
    "        front = min(q, key = lambda node: node.h)\n",
    "        q.remove(front)\n",
    "        \n",
    "        #get the state of the current element\n",
    "        state = mh.look(maze, front.pos)   \n",
    "\n",
    "        # if goal is found then highlight the final path on the maze and return the path\n",
    "        if(state == \"G\"):\n",
    "            return get_final_path(front, maze)\n",
    "        \n",
    "        # otherwise keep exploring\n",
    "        expand(maze, front, q, goal)   "
   ]
  },
  {
   "cell_type": "code",
   "execution_count": 11,
   "metadata": {},
   "outputs": [],
   "source": [
    "def a_star(maze):\n",
    "    \n",
    "    #initialize root node to starting pos\n",
    "    start = mh.find_pos(maze, what = \"S\")\n",
    "    goal = mh.find_pos(maze, what = \"G\")\n",
    "    hn = get_manhattan(start, goal)\n",
    "    root = Node(pos = start, parent = None, action = None, cost = 0, h = hn)\n",
    "    q = [root]\n",
    "    # iterate through the queue of nodes while it still contains elements\n",
    "    while(q):\n",
    "        # get next element in the queue\n",
    "        front = min(q, key = lambda node: (node.h+node.cost))\n",
    "        q.remove(front)\n",
    "        \n",
    "        #get the state of the current element\n",
    "        state = mh.look(maze, front.pos)   \n",
    "\n",
    "        # if goal is found then highlight the final path on the maze and return the path\n",
    "        if(state == \"G\"):\n",
    "            return get_final_path(front, maze)\n",
    "        \n",
    "        # otherwise keep exploring\n",
    "        expand(maze, front, q, goal) "
   ]
  },
  {
   "cell_type": "code",
   "execution_count": null,
   "metadata": {
    "tags": []
   },
   "outputs": [],
   "source": []
  },
  {
   "cell_type": "markdown",
   "metadata": {},
   "source": [
    "Are your implementations complete and optimal? What is the time and space complexity?"
   ]
  },
  {
   "cell_type": "code",
   "execution_count": 12,
   "metadata": {},
   "outputs": [],
   "source": [
    "# Discussion"
   ]
  },
  {
   "cell_type": "markdown",
   "metadata": {},
   "source": [
    "## Task 4: Comparison and discussion [20 Points] \n",
    "\n",
    "Run experiments to compare the implemented algorithms.\n",
    "\n",
    "How to deal with issues:\n",
    "\n",
    "* Your implementation returns unexpected results: Try to debug and fix the code. Visualizing the maze, the current path and the frontier after every step is very helpful. If the code still does not work, then mark the result with an asterisk (*) and describe the issue below the table.\n",
    "\n",
    "* Your implementation cannot consistently solve a specific maze and ends up in an infinite loop:\n",
    "    Debug. If it is a shortcoming of the algorithm/implementation, then put \"N/A*\" in the results table and describe why this is happening."
   ]
  },
  {
   "cell_type": "code",
   "execution_count": 13,
   "metadata": {},
   "outputs": [
    {
     "name": "stdout",
     "output_type": "stream",
     "text": [
      "BFS\n"
     ]
    },
    {
     "data": {
      "image/png": "[encoded data removed]",
      "text/plain": [
       "<Figure size 432x288 with 1 Axes>"
      ]
     },
     "metadata": {
      "image/png": {
       "height": 249,
       "width": 251
      },
      "needs_background": "light"
     },
     "output_type": "display_data"
    },
    {
     "name": "stdout",
     "output_type": "stream",
     "text": [
      "DFS\n"
     ]
    },
    {
     "data": {
      "image/png": "[encoded data removed]",
      "text/plain": [
       "<Figure size 432x288 with 1 Axes>"
      ]
     },
     "metadata": {
      "image/png": {
       "height": 249,
       "width": 251
      },
      "needs_background": "light"
     },
     "output_type": "display_data"
    },
    {
     "name": "stdout",
     "output_type": "stream",
     "text": [
      "Best First\n"
     ]
    },
    {
     "data": {
      "image/png": "[encoded data removed]",
      "text/plain": [
       "<Figure size 432x288 with 1 Axes>"
      ]
     },
     "metadata": {
      "image/png": {
       "height": 249,
       "width": 251
      },
      "needs_background": "light"
     },
     "output_type": "display_data"
    },
    {
     "name": "stdout",
     "output_type": "stream",
     "text": [
      "A-Star\n"
     ]
    },
    {
     "data": {
      "image/png": "[encoded data removed]",
      "text/plain": [
       "<Figure size 432x288 with 1 Axes>"
      ]
     },
     "metadata": {
      "image/png": {
       "height": 249,
       "width": 251
      },
      "needs_background": "light"
     },
     "output_type": "display_data"
    }
   ],
   "source": [
    "# Add code\n",
    "maze_name = \"large_maze.txt\"\n",
    "bfs_maze = get_maze(maze_name) \n",
    "BFS(bfs_maze)\n",
    "print(\"BFS\")\n",
    "mh.show_maze(bfs_maze)\n",
    "dfs_maze = get_maze(maze_name)                 \n",
    "DFS(dfs_maze)\n",
    "print(\"DFS\")\n",
    "mh.show_maze(dfs_maze)\n",
    "best_first_maze = get_maze(maze_name)                 \n",
    "best_first_search(best_first_maze)\n",
    "print(\"Best First\")\n",
    "mh.show_maze(best_first_maze)\n",
    "astar_maze = get_maze(maze_name)\n",
    "a_star(astar_maze)\n",
    "print(\"A-Star\")\n",
    "mh.show_maze(astar_maze)"
   ]
  },
  {
   "cell_type": "markdown",
   "metadata": {},
   "source": [
    "Complete the following table for each maze.\n",
    "\n",
    "__Small maze__\n",
    "\n",
    "| algorithm | path cost | # of nodes expanded | max tree depth | max # of nodes in memory | max frontier size |\n",
    "|-----------|-----------|----------------|----------------|---------------|-------------------|\n",
    "| BFS       |           |                |                |               |                   |\n",
    "| DFS       |           |                |                |               |                   |\n",
    "| GBS       |           |                |                |               |                   |\n",
    "| A*        |           |                |                |               |                   |\n",
    "\n",
    "__Medium Maze__\n",
    "\n",
    "..."
   ]
  },
  {
   "cell_type": "markdown",
   "metadata": {},
   "source": [
    "Present the results as using charts (see [Python Code Examples/charts and tables](../Python_Code_Examples/charts_and_tables.ipynb)). "
   ]
  },
  {
   "cell_type": "code",
   "execution_count": 14,
   "metadata": {},
   "outputs": [],
   "source": [
    "# Add charts"
   ]
  },
  {
   "cell_type": "markdown",
   "metadata": {},
   "source": [
    "Discuss the most important lessons you have learned from implementing the different search strategies. "
   ]
  },
  {
   "cell_type": "code",
   "execution_count": 15,
   "metadata": {},
   "outputs": [],
   "source": [
    "# Add discussion"
   ]
  },
  {
   "cell_type": "markdown",
   "metadata": {},
   "source": [
    "## Graduate student advanced task: Multiple goals [10 Points]\n",
    "\n",
    "__Undergraduate students:__ This is a bonus task you can attempt if you like [+5 Bonus Points].\n",
    "\n",
    "Create a few mazes with multiple goals by adding one or two more goals to the medium size maze.\n",
    "Solve the maze with your implementations for DFS, BFS, and implement in addition IDS (iterative deepening search using DFS). \n",
    "\n",
    "Run experiments to show which implementations find the optimal solution and which do not. Discuss why that is the case."
   ]
  },
  {
   "cell_type": "code",
   "execution_count": 16,
   "metadata": {},
   "outputs": [],
   "source": [
    "# Your code/answer goes here"
   ]
  },
  {
   "cell_type": "markdown",
   "metadata": {},
   "source": [
    "## More advanced tasks to think about\n",
    "\n",
    "Instead of defining each square as a state, use only intersections as states. Now the storage requirement is reduced, but the path length between two intersections can be different. If we use total path length measured as the number of squares as path cost, how can we make sure that BFS and iterative deepening search is optimal? Change the code to do so."
   ]
  },
  {
   "cell_type": "code",
   "execution_count": 17,
   "metadata": {},
   "outputs": [],
   "source": [
    "# Your code/answer goes here"
   ]
  },
  {
   "cell_type": "markdown",
   "metadata": {},
   "source": [
    "Modify your A* search to add weights (see text book) and explore how different weights influence the result."
   ]
  },
  {
   "cell_type": "code",
   "execution_count": 18,
   "metadata": {},
   "outputs": [],
   "source": [
    "# Your code/answer goes here"
   ]
  },
  {
   "cell_type": "markdown",
   "metadata": {},
   "source": [
    "What happens if the agent does not know the layout of the maze in advance (i.e., faces an unkown, only partially observable environment)? How does the environment look then (PEAS description)? How would you implement a rational agent to solve the maze? What if the agent still has a GPS device to tell the distance to the goal?"
   ]
  },
  {
   "cell_type": "code",
   "execution_count": 19,
   "metadata": {},
   "outputs": [],
   "source": [
    "# Your code/answer goes here"
   ]
  },
  {
   "cell_type": "code",
   "execution_count": null,
   "metadata": {},
   "outputs": [],
   "source": []
  },
  {
   "cell_type": "code",
   "execution_count": null,
   "metadata": {},
   "outputs": [],
   "source": []
  }
 ],
 "metadata": {
  "kernelspec": {
   "display_name": "Python 3 (ipykernel)",
   "language": "python",
   "name": "python3"
  },
  "language_info": {
   "codemirror_mode": {
    "name": "ipython",
    "version": 3
   },
   "file_extension": ".py",
   "mimetype": "text/x-python",
   "name": "python",
   "nbconvert_exporter": "python",
   "pygments_lexer": "ipython3",
   "version": "3.9.7"
  }
 },
 "nbformat": 4,
 "nbformat_minor": 4
}
